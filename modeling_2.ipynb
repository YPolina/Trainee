{
 "cells": [
  {
   "cell_type": "code",
   "execution_count": 33,
   "metadata": {},
   "outputs": [],
   "source": [
    "from validation_step import *\n",
    "from sklearn.pipeline import Pipeline\n",
    "from sklearn.model_selection import KFold\n",
    "from sklearn.linear_model import LinearRegression\n",
    "from sklearn.ensemble import RandomForestRegressor\n",
    "from xgboost import XGBRegressor\n",
    "from sklearn.metrics import root_mean_squared_error"
   ]
  },
  {
   "cell_type": "code",
   "execution_count": 34,
   "metadata": {},
   "outputs": [],
   "source": [
    "#Loading of datasets\n",
    "data = pd.read_csv('data.csv')\n",
    "categories = pd.read_csv('item_categories.csv')\n",
    "items = pd.read_csv('items.csv')\n",
    "shops = pd.read_csv('shops.csv')\n",
    "test = pd.read_csv('./competitive-data-science-predict-future-sales/test.csv')"
   ]
  },
  {
   "cell_type": "code",
   "execution_count": 35,
   "metadata": {},
   "outputs": [],
   "source": [
    "#Transformation of test set\\n\",\n",
    "merge_params = [[items, 'item_id'], [categories, 'item_category_id'], [shops, 'shop_id']]\n",
    "\n",
    "for df_merge, column in merge_params:\n",
    "    test = test.merge(df_merge, on = f'{column}', how = 'left')\n",
    "\n",
    "test['date_block_num'] = 34\n",
    "test['year'] = 2015\n",
    "test['month'] = 11\n",
    "    \n",
    "columns = ['item_category_id', 'main_category_id', 'minor_category_id',\n",
    "    'date_block_num', 'item_id', 'month', \n",
    "    'year', 'shop_id', 'city_id']\n",
    "test = test.loc[:, columns]"
   ]
  },
  {
   "cell_type": "code",
   "execution_count": 36,
   "metadata": {},
   "outputs": [],
   "source": [
    "#According to the task conditions, True target values are clipped in the range [0,20]\n",
    "data.item_cnt_month = data.item_cnt_month.clip(0,20)"
   ]
  },
  {
   "cell_type": "code",
   "execution_count": 37,
   "metadata": {},
   "outputs": [
    {
     "name": "stderr",
     "output_type": "stream",
     "text": [
      "C:\\Users\\User\\AppData\\Local\\Temp\\ipykernel_25628\\3268138665.py:2: FutureWarning: The behavior of pd.concat with len(keys) != len(objs) is deprecated. In a future version this will raise instead of truncating to the smaller of the two sequences\n",
      "  data = pd.concat([data, test], ignore_index=True, sort=False, keys=columns)\n"
     ]
    }
   ],
   "source": [
    "#Merge Train and Test sets\n",
    "data = pd.concat([data, test], ignore_index=True, sort=False, keys=columns)"
   ]
  },
  {
   "cell_type": "code",
   "execution_count": 38,
   "metadata": {},
   "outputs": [],
   "source": [
    "#Pipeline with feature enfineering, column trasformation, obtaining a complete data set, validation,\n",
    "categorical_features = ['item_category_id', 'main_category_id', 'minor_category_id', 'shop_id']\n",
    "target_log_transformation = ['item_cnt_month']\n",
    "\n",
    "col_lags_dict = {'date_item_avg_item_cnt': [1,2,3,6,12], 'date_shop_avg_item_cnt': [1,2,3,6,12], 'date_shop_cat_avg_item_cnt': [1], 'date_cat_avg_item_cnt': [1],\n",
    "    'date_minor_cat_avg_item_cnt': [1], 'date_main_cat_avg_item_cnt': [1], 'date_city_avg_item_cnt': [1], 'date_item_avg_item_price': [1,2,3,6], 'delta_revenue': [1]}\n",
    "\n",
    "#Pipeline for feature engineering(revenue, shop_history, minor_catregory_history, lags)\n",
    "pipeline_1 = pipeline_1(col_lags_dict)\n",
    "pipeline_1.fit(data)\n",
    "data = pipeline_1.transform(data)\n",
    "\n",
    "#Pipeline for log transformation and encoding of categorical features\n",
    "pipeline_2 = pipeline_2(target_log_transformation, categorical_features)\n",
    "pipeline_2.fit(data)\n",
    "transformed_data = pipeline_2.transform(data)\n",
    "\n",
    "#Adding results from 2nd pipeline\\n\",\n",
    "transformed_columns = ['item_cnt_month_log', 'item_category_id', 'main_category_id', 'minor_category_id', 'shop_id']\n",
    "data[transformed_columns] = transformed_data\n",
    "\n",
    "#Save in dataframe needed columns and removing features that can cause data/target leakage\n",
    "columns = ['date_block_num', 'shop_id', 'item_id', 'item_category_id',\n",
    "       'main_category_id', 'minor_category_id', 'month', 'year', 'city_id', 'shop_history',\n",
    "           'minor_category_history', 'date_item_avg_item_cnt_lag_1',\n",
    "           'date_item_avg_item_cnt_lag_2', 'date_item_avg_item_cnt_lag_3',\n",
    "           'date_item_avg_item_cnt_lag_6', 'date_item_avg_item_cnt_lag_12',\n",
    "           'date_shop_avg_item_cnt_lag_1', 'date_shop_avg_item_cnt_lag_2',\n",
    "           'date_shop_avg_item_cnt_lag_3', 'date_shop_avg_item_cnt_lag_6',\n",
    "           'date_shop_avg_item_cnt_lag_12', 'date_shop_cat_avg_item_cnt_lag_1',\n",
    "           'date_cat_avg_item_cnt_lag_1', 'date_minor_cat_avg_item_cnt_lag_1',\n",
    "           'date_main_cat_avg_item_cnt_lag_1', 'date_city_avg_item_cnt_lag_1',\n",
    "           'date_item_avg_item_price_lag_1', 'date_item_avg_item_price_lag_2',\n",
    "           'date_item_avg_item_price_lag_3', 'date_item_avg_item_price_lag_6',\n",
    "           'delta_revenue_lag_1', 'item_cnt_month_log']\n",
    "data = data.loc[:, columns].fillna(0)"
   ]
  },
  {
   "cell_type": "code",
   "execution_count": 39,
   "metadata": {},
   "outputs": [
    {
     "name": "stdout",
     "output_type": "stream",
     "text": [
      "Validation successful, data is valid.\n"
     ]
    }
   ],
   "source": [
    "#Data Validation\n",
    "non_negative_columns = ['date_block_num', 'shop_id', 'item_id', 'item_category_id',\n",
    "       'main_category_id', 'minor_category_id', 'month', 'year', 'city_id', 'shop_history',\n",
    "           'minor_category_history', 'date_item_avg_item_cnt_lag_1',\n",
    "           'date_item_avg_item_cnt_lag_2', 'date_item_avg_item_cnt_lag_3',\n",
    "           'date_item_avg_item_cnt_lag_6', 'date_item_avg_item_cnt_lag_12',\n",
    "           'date_shop_avg_item_cnt_lag_1', 'date_shop_avg_item_cnt_lag_2',\n",
    "           'date_shop_avg_item_cnt_lag_3', 'date_shop_avg_item_cnt_lag_6',\n",
    "           'date_shop_avg_item_cnt_lag_12', 'date_shop_cat_avg_item_cnt_lag_1',\n",
    "           'date_cat_avg_item_cnt_lag_1', 'date_minor_cat_avg_item_cnt_lag_1',\n",
    "           'date_main_cat_avg_item_cnt_lag_1', 'date_city_avg_item_cnt_lag_1',\n",
    "           'date_item_avg_item_price_lag_1', 'date_item_avg_item_price_lag_2',\n",
    "           'date_item_avg_item_price_lag_3', 'date_item_avg_item_price_lag_6',\n",
    "           'item_cnt_month_log']\n",
    "\n",
    "validation = Validator(non_negative_columns = non_negative_columns)\n",
    "\n",
    "try:\n",
    "    validated_data = validation.fit_transform(data)\n",
    "    print(\"Validation successful, data is valid.\")\n",
    "except ValueError as e:\n",
    "    print(f\"Validation error: {e}\")\n",
    "except TypeError as e:\n",
    "    print(f\"Type error: {e}\")"
   ]
  },
  {
   "cell_type": "code",
   "execution_count": 42,
   "metadata": {},
   "outputs": [],
   "source": [
    "k = 3 \n",
    "kf = KFold(n_splits=k, shuffle=True, random_state=42)"
   ]
  },
  {
   "cell_type": "code",
   "execution_count": 69,
   "metadata": {},
   "outputs": [],
   "source": [
    "#Train/test split\n",
    "\n",
    "X_test = data[data.date_block_num == 34].drop('item_cnt_month_log', axis = 1)\n",
    "\n",
    "X = data[data.date_block_num != 34].drop('item_cnt_month_log', axis = 1)\n",
    "y = data[data.date_block_num != 34]['item_cnt_month_log']"
   ]
  },
  {
   "cell_type": "markdown",
   "metadata": {},
   "source": [
    "<strong>Linear Regression</strong>"
   ]
  },
  {
   "cell_type": "code",
   "execution_count": 45,
   "metadata": {},
   "outputs": [
    {
     "name": "stdout",
     "output_type": "stream",
     "text": [
      "Linear Regression\n",
      "RMSE for split 1: 0.395\n",
      "RMSE for split 2: 0.394\n",
      "RMSE for split 3: 0.394\n",
      "Mean RMSE for all splits: 0.394\n"
     ]
    }
   ],
   "source": [
    "n = 0\n",
    "rmse = []\n",
    "model = LinearRegression()\n",
    "\n",
    "print('Linear Regression')\n",
    "\n",
    "for train_idxs, val_idxs in kf.split(X):\n",
    "\n",
    "    X_train, X_val = X.iloc[train_idxs], X.iloc[val_idxs]\n",
    "    y_train, y_val = y.iloc[train_idxs], y.iloc[val_idxs]\n",
    "    \n",
    "    model.fit(X_train, y_train)\n",
    "    y_pred = model.predict(X_val)\n",
    "    rmse.append(root_mean_squared_error(y_pred, y_val))\n",
    "    print(f'RMSE for split {n+1}: {rmse[n]:.3f}')\n",
    "    n += 1\n",
    "print(f'Mean RMSE for all splits: {np.mean(rmse):.3f}')"
   ]
  },
  {
   "cell_type": "code",
   "execution_count": 46,
   "metadata": {},
   "outputs": [],
   "source": [
    "model.fit(X, y)\n",
    "y_pred_linregr = np.expm1(model.predict(X_test))"
   ]
  },
  {
   "cell_type": "code",
   "execution_count": 24,
   "metadata": {},
   "outputs": [],
   "source": [
    "submission = pd.DataFrame({'ID': np.arange(len(y_pred_linregr)), 'item_cnt_month': y_pred_linregr})\n",
    "submission.to_csv('submission.csv', index = False)"
   ]
  },
  {
   "cell_type": "markdown",
   "metadata": {},
   "source": [
    "_**Submission result for Linear Regression: 1.6058**_"
   ]
  },
  {
   "cell_type": "markdown",
   "metadata": {},
   "source": [
    "<strong>RandomForestRegressor</strong>"
   ]
  },
  {
   "cell_type": "code",
   "execution_count": 48,
   "metadata": {},
   "outputs": [
    {
     "name": "stdout",
     "output_type": "stream",
     "text": [
      "RandomForestRegressor\n",
      "RMSE for split 1: 0.327\n",
      "RMSE for split 2: 0.327\n",
      "RMSE for split 3: 0.327\n",
      "Mean RMSE for all splits: 0.327\n"
     ]
    }
   ],
   "source": [
    "n = 0\n",
    "rmse = []\n",
    "model = RandomForestRegressor()\n",
    "\n",
    "print('RandomForestRegressor')\n",
    "\n",
    "for train_idxs, val_idxs in kf.split(X):\n",
    "\n",
    "    X_train, X_val = X.iloc[train_idxs], X.iloc[val_idxs]\n",
    "    y_train, y_val = y.iloc[train_idxs], y.iloc[val_idxs]\n",
    "    \n",
    "    model.fit(X_train, y_train)\n",
    "    y_pred = model.predict(X_val)\n",
    "    rmse.append(root_mean_squared_error(y_pred, y_val))\n",
    "    print(f'RMSE for split {n+1}: {rmse[n]:.3f}')\n",
    "    n += 1\n",
    "print(f'Mean RMSE for all splits: {np.mean(rmse):.3f}')"
   ]
  },
  {
   "cell_type": "code",
   "execution_count": 49,
   "metadata": {},
   "outputs": [],
   "source": [
    "model.fit(X, y)\n",
    "y_pred_rfregr = np.expm1(model.predict(X_test))"
   ]
  },
  {
   "cell_type": "code",
   "execution_count": 50,
   "metadata": {},
   "outputs": [],
   "source": [
    "submission['item_cnt_month'] = y_pred_rfregr\n",
    "submission.to_csv('submission.csv', index = False)"
   ]
  },
  {
   "cell_type": "markdown",
   "metadata": {},
   "source": [
    "_**Submission result for RFRegression: 1.83225**_"
   ]
  },
  {
   "cell_type": "markdown",
   "metadata": {},
   "source": [
    "<strong>XGBRegressor</strong>"
   ]
  },
  {
   "cell_type": "code",
   "execution_count": 51,
   "metadata": {},
   "outputs": [
    {
     "name": "stdout",
     "output_type": "stream",
     "text": [
      "XGBRegressor\n",
      "RMSE for split 1: 0.351\n",
      "RMSE for split 2: 0.351\n",
      "RMSE for split 3: 0.350\n",
      "Mean RMSE for all splits: 0.350\n"
     ]
    }
   ],
   "source": [
    "n = 0\n",
    "rmse = []\n",
    "model = XGBRegressor()\n",
    "\n",
    "print('XGBRegressor')\n",
    "\n",
    "for train_idxs, val_idxs in kf.split(X):\n",
    "\n",
    "    X_train, X_val = X.iloc[train_idxs], X.iloc[val_idxs]\n",
    "    y_train, y_val = y.iloc[train_idxs], y.iloc[val_idxs]\n",
    "    \n",
    "    model.fit(X_train, y_train)\n",
    "    y_pred = model.predict(X_val)\n",
    "    rmse.append(root_mean_squared_error(y_pred, y_val))\n",
    "    print(f'RMSE for split {n+1}: {rmse[n]:.3f}')\n",
    "    n += 1\n",
    "print(f'Mean RMSE for all splits: {np.mean(rmse):.3f}')"
   ]
  },
  {
   "cell_type": "code",
   "execution_count": 52,
   "metadata": {},
   "outputs": [],
   "source": [
    "model.fit(X, y)\n",
    "y_pred_xgbregressor = np.expm1(model.predict(X_test))"
   ]
  },
  {
   "cell_type": "code",
   "execution_count": 53,
   "metadata": {},
   "outputs": [],
   "source": [
    "submission['item_cnt_month'] = y_pred_xgbregressor\n",
    "submission.to_csv('submission.csv', index = False)"
   ]
  },
  {
   "cell_type": "markdown",
   "metadata": {},
   "source": [
    "_**Submission result for XGBRegression: 1.54999**_"
   ]
  },
  {
   "cell_type": "code",
   "execution_count": 74,
   "metadata": {},
   "outputs": [
    {
     "name": "stdout",
     "output_type": "stream",
     "text": [
      "XGBRegressor\n",
      "RMSE for split 1: 0.333\n",
      "RMSE for split 2: 0.333\n",
      "RMSE for split 3: 0.332\n",
      "Mean RMSE for all splits: 0.333\n"
     ]
    }
   ],
   "source": [
    "n = 0\n",
    "rmse = []\n",
    "\n",
    "model = XGBRegressor(n_estimators=500,\n",
    "                    eta = 0.1,\n",
    "                    max_depth = 8,\n",
    "                    reg_lambda = 2)\n",
    "\n",
    "print('XGBRegressor')\n",
    "\n",
    "for train_idxs, val_idxs in kf.split(X):\n",
    "\n",
    "    X_train, X_val = X.iloc[train_idxs], X.iloc[val_idxs]\n",
    "    y_train, y_val = y.iloc[train_idxs], y.iloc[val_idxs]\n",
    "    \n",
    "    model.fit(X_train, y_train)\n",
    "    y_pred = model.predict(X_val)\n",
    "    rmse.append(root_mean_squared_error(y_pred, y_val))\n",
    "    print(f'RMSE for split {n+1}: {rmse[n]:.3f}')\n",
    "    n += 1\n",
    "print(f'Mean RMSE for all splits: {np.mean(rmse):.3f}')\n",
    "\n",
    "y_pred_xgbregressor = np.expm1(model.predict(X_test))"
   ]
  },
  {
   "cell_type": "code",
   "execution_count": 75,
   "metadata": {},
   "outputs": [],
   "source": [
    "submission['item_cnt_month'] = y_pred_xgbregressor\n",
    "submission.to_csv('submission.csv', index = False)"
   ]
  },
  {
   "cell_type": "markdown",
   "metadata": {},
   "source": [
    "_**Submission result for XGBRegression after some hyperpar.added: 1.55**_"
   ]
  }
 ],
 "metadata": {
  "kernelspec": {
   "display_name": "venv",
   "language": "python",
   "name": "python3"
  },
  "language_info": {
   "codemirror_mode": {
    "name": "ipython",
    "version": 3
   },
   "file_extension": ".py",
   "mimetype": "text/x-python",
   "name": "python",
   "nbconvert_exporter": "python",
   "pygments_lexer": "ipython3",
   "version": "3.13.0"
  }
 },
 "nbformat": 4,
 "nbformat_minor": 2
}
