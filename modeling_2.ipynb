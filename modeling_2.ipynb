{
 "cells": [
  {
   "cell_type": "code",
   "execution_count": 1,
   "metadata": {},
   "outputs": [],
   "source": [
    "import pandas as pd\n",
    "import numpy as np\n",
    "from sklearn.model_selection import TimeSeriesSplit\n",
    "from sklearn.svm import SVR\n",
    "from sklearn.ensemble import RandomForestRegressor\n",
    "from xgboost import XGBRegressor\n",
    "from sklearn.metrics import root_mean_squared_error"
   ]
  },
  {
   "cell_type": "code",
   "execution_count": 2,
   "metadata": {},
   "outputs": [],
   "source": [
    "data = pd.read_csv('full_data.csv')"
   ]
  },
  {
   "cell_type": "markdown",
   "metadata": {},
   "source": [
    "RandomForestRegressor"
   ]
  },
  {
   "cell_type": "code",
   "execution_count": 6,
   "metadata": {},
   "outputs": [
    {
     "name": "stdout",
     "output_type": "stream",
     "text": [
      "RMSE for split 1: 0.11199380540343483\n",
      "RMSE for split 1: 0.11199380540343483\n",
      "RMSE for split 1: 0.11199380540343483\n",
      "Mean RMSE for all splits: 0.12008755074043402\n"
     ]
    }
   ],
   "source": [
    "tss = TimeSeriesSplit(n_splits = 3)\n",
    "n = 0\n",
    "rmse = []\n",
    "model = RandomForestRegressor()\n",
    "\n",
    "for train_idxs, val_idxs in tss.split(data[data.date_block_num != 34]):\n",
    "    train_data, val_data = data.iloc[train_idxs], data.iloc[val_idxs]\n",
    "\n",
    "    X_train = train_data.drop('item_cnt_month_log', axis = 1)\n",
    "    y_train = train_data['item_cnt_month_log']\n",
    "    X_val = val_data.drop('item_cnt_month_log', axis = 1)\n",
    "    y_val = val_data['item_cnt_month_log']\n",
    "\n",
    "    model.fit(X_train, y_train)\n",
    "    y_pred = model.predict(X_val)\n",
    "    rmse.append(root_mean_squared_error(y_pred, y_val))\n",
    "    print(f'RMSE for split {n+1}: {rmse[n]}')\n",
    "print(f'Mean RMSE for all splits: {np.mean(rmse)}')"
   ]
  },
  {
   "cell_type": "markdown",
   "metadata": {},
   "source": [
    "XGBRegressor"
   ]
  },
  {
   "cell_type": "code",
   "execution_count": 12,
   "metadata": {},
   "outputs": [
    {
     "name": "stdout",
     "output_type": "stream",
     "text": [
      "RMSE for split 1: 0.1167564087740027\n",
      "RMSE for split 1: 0.1167564087740027\n",
      "RMSE for split 1: 0.1167564087740027\n",
      "Mean RMSE for all splits in XGBRegressor model: 0.12038998939296497\n"
     ]
    }
   ],
   "source": [
    "rmse = []\n",
    "model = XGBRegressor()\n",
    "\n",
    "for train_idxs, val_idxs in tss.split(data[data.date_block_num != 34]):\n",
    "    train_data, val_data = data.iloc[train_idxs], data.iloc[val_idxs]\n",
    "\n",
    "    X_train = train_data.drop('item_cnt_month_log', axis = 1)\n",
    "    y_train = train_data['item_cnt_month_log']\n",
    "    X_val = val_data.drop('item_cnt_month_log', axis = 1)\n",
    "    y_val = val_data['item_cnt_month_log']\n",
    "\n",
    "    model.fit(X_train, y_train)\n",
    "    y_pred = model.predict(X_val)\n",
    "    rmse.append(root_mean_squared_error(y_pred, y_val))\n",
    "    print(f'RMSE for split {n+1}: {rmse[n]}')\n",
    "print(f'Mean RMSE for all splits in XGBRegressor model: {np.mean(rmse)}')"
   ]
  },
  {
   "cell_type": "code",
   "execution_count": 13,
   "metadata": {},
   "outputs": [],
   "source": [
    "y_pred = model.predict(X_test)\n",
    "submission = pd.DataFrame({'ID': len(y_pred), 'item_cnt_month': np.expm1(y_pred)})"
   ]
  },
  {
   "cell_type": "markdown",
   "metadata": {},
   "source": [
    "SVR"
   ]
  },
  {
   "cell_type": "code",
   "execution_count": null,
   "metadata": {},
   "outputs": [],
   "source": [
    "tss = TimeSeriesSplit(n_splits = 3)\n",
    "n = 0\n",
    "rmse = []\n",
    "model = SVR()\n",
    "\n",
    "for train_idxs, val_idxs in tss.split(data[data.date_block_num != 34]):\n",
    "    train_data, val_data = data.iloc[train_idxs], data.iloc[val_idxs]\n",
    "\n",
    "    X_train = train_data.drop('item_cnt_month_log', axis = 1)\n",
    "    y_train = train_data['item_cnt_month_log']\n",
    "    X_val = val_data.drop('item_cnt_month_log', axis = 1)\n",
    "    y_val = val_data['item_cnt_month_log']\n",
    "\n",
    "    model.fit(X_train, y_train)\n",
    "    y_pred = model.predict(X_val)\n",
    "    rmse.append(root_mean_squared_error(y_pred, y_val))\n",
    "    print(f'RMSE for split {n+1}: {rmse[n]}')\n",
    "print(f'Mean RMSE for all splits in SVR model: {np.mean(rmse)}')"
   ]
  }
 ],
 "metadata": {
  "kernelspec": {
   "display_name": "venv",
   "language": "python",
   "name": "python3"
  },
  "language_info": {
   "codemirror_mode": {
    "name": "ipython",
    "version": 3
   },
   "file_extension": ".py",
   "mimetype": "text/x-python",
   "name": "python",
   "nbconvert_exporter": "python",
   "pygments_lexer": "ipython3",
   "version": "3.13.0"
  }
 },
 "nbformat": 4,
 "nbformat_minor": 2
}
