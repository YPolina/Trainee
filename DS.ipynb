{
 "cells": [
  {
   "cell_type": "code",
   "execution_count": 1065,
   "metadata": {},
   "outputs": [],
   "source": [
    "import os\n",
    "import opendatasets as od\n",
    "import numpy as np \n",
    "import pandas as pd\n",
    "import matplotlib.pyplot as plt\n",
    "import plotly.express as px\n",
    "import seaborn as sns\n",
    "from sklearn.preprocessing import StandardScaler\n",
    "from sklearn.model_selection import train_test_split"
   ]
  },
  {
   "cell_type": "markdown",
   "metadata": {},
   "source": [
    "Data Extraction"
   ]
  },
  {
   "cell_type": "code",
   "execution_count": 1066,
   "metadata": {},
   "outputs": [
    {
     "name": "stdout",
     "output_type": "stream",
     "text": [
      "Skipping, found downloaded files in \".\\competitive-data-science-predict-future-sales\" (use force=True to force download)\n"
     ]
    }
   ],
   "source": [
    "data = 'https://www.kaggle.com/competitions/competitive-data-science-predict-future-sales/data'\n",
    "od.download(data)\n",
    "file_paths = os.listdir('./competitive-data-science-predict-future-sales')\n",
    "df_s = list(map(lambda path: pd.read_csv(f'./competitive-data-science-predict-future-sales/{path}'), file_paths))"
   ]
  },
  {
   "cell_type": "code",
   "execution_count": 1067,
   "metadata": {},
   "outputs": [
    {
     "name": "stdout",
     "output_type": "stream",
     "text": [
      "                                           item_name  item_id  \\\n",
      "0          ! ВО ВЛАСТИ НАВАЖДЕНИЯ (ПЛАСТ.)         D        0   \n",
      "1  !ABBYY FineReader 12 Professional Edition Full...        1   \n",
      "2      ***В ЛУЧАХ СЛАВЫ   (UNV)                    D        2   \n",
      "3    ***ГОЛУБАЯ ВОЛНА  (Univ)                      D        3   \n",
      "4        ***КОРОБКА (СТЕКЛО)                       D        4   \n",
      "\n",
      "   item_category_id  \n",
      "0                40  \n",
      "1                76  \n",
      "2                40  \n",
      "3                40  \n",
      "4                40  \n",
      "        item_category_name  item_category_id\n",
      "0  PC - Гарнитуры/Наушники                 0\n",
      "1         Аксессуары - PS2                 1\n",
      "2         Аксессуары - PS3                 2\n",
      "3         Аксессуары - PS4                 3\n",
      "4         Аксессуары - PSP                 4\n",
      "         date  date_block_num  shop_id  item_id  item_price  item_cnt_day\n",
      "0  02.01.2013               0       59    22154      999.00           1.0\n",
      "1  03.01.2013               0       25     2552      899.00           1.0\n",
      "2  05.01.2013               0       25     2552      899.00          -1.0\n",
      "3  06.01.2013               0       25     2554     1709.05           1.0\n",
      "4  15.01.2013               0       25     2555     1099.00           1.0\n",
      "   ID  item_cnt_month\n",
      "0   0             0.5\n",
      "1   1             0.5\n",
      "2   2             0.5\n",
      "3   3             0.5\n",
      "4   4             0.5\n",
      "                        shop_name  shop_id\n",
      "0   !Якутск Орджоникидзе, 56 фран        0\n",
      "1   !Якутск ТЦ \"Центральный\" фран        1\n",
      "2                Адыгея ТЦ \"Мега\"        2\n",
      "3  Балашиха ТРК \"Октябрь-Киномир\"        3\n",
      "4        Волжский ТЦ \"Волга Молл\"        4\n",
      "   ID  shop_id  item_id\n",
      "0   0        5     5037\n",
      "1   1        5     5320\n",
      "2   2        5     5233\n",
      "3   3        5     5232\n",
      "4   4        5     5268\n"
     ]
    }
   ],
   "source": [
    "for df in df_s:\n",
    "    print(df.head())"
   ]
  },
  {
   "cell_type": "markdown",
   "metadata": {},
   "source": [
    "Name-correction in df with shop_name"
   ]
  },
  {
   "cell_type": "code",
   "execution_count": 1068,
   "metadata": {},
   "outputs": [],
   "source": [
    "pattern1 = \"^!\"\n",
    "pattern2 = \"\"\n",
    "for name in df_s[4]['shop_name'].unique():\n",
    "    df_s[4].replace({'shop_name': {name: re.sub(pattern1, pattern2, name)}}, inplace = True)"
   ]
  },
  {
   "cell_type": "code",
   "execution_count": 1069,
   "metadata": {},
   "outputs": [
    {
     "data": {
      "text/plain": [
       "array(['Якутск Орджоникидзе, 56 фран', 'Якутск ТЦ \"Центральный\" фран',\n",
       "       'Адыгея ТЦ \"Мега\"', 'Балашиха ТРК \"Октябрь-Киномир\"',\n",
       "       'Волжский ТЦ \"Волга Молл\"', 'Вологда ТРЦ \"Мармелад\"',\n",
       "       'Воронеж (Плехановская, 13)', 'Воронеж ТРЦ \"Максимир\"',\n",
       "       'Воронеж ТРЦ Сити-Парк \"Град\"', 'Выездная Торговля',\n",
       "       'Жуковский ул. Чкалова 39м?', 'Жуковский ул. Чкалова 39м²',\n",
       "       'Интернет-магазин ЧС', 'Казань ТЦ \"Бехетле\"',\n",
       "       'Казань ТЦ \"ПаркХаус\" II', 'Калуга ТРЦ \"XXI век\"',\n",
       "       'Коломна ТЦ \"Рио\"', 'Красноярск ТЦ \"Взлетка Плаза\"',\n",
       "       'Красноярск ТЦ \"Июнь\"', 'Курск ТЦ \"Пушкинский\"',\n",
       "       'Москва \"Распродажа\"', 'Москва МТРЦ \"Афи Молл\"',\n",
       "       'Москва Магазин С21', 'Москва ТК \"Буденовский\" (пав.А2)',\n",
       "       'Москва ТК \"Буденовский\" (пав.К7)', 'Москва ТРК \"Атриум\"',\n",
       "       'Москва ТЦ \"Ареал\" (Беляево)', 'Москва ТЦ \"МЕГА Белая Дача II\"',\n",
       "       'Москва ТЦ \"МЕГА Теплый Стан\" II',\n",
       "       'Москва ТЦ \"Новый век\" (Новокосино)', 'Москва ТЦ \"Перловский\"',\n",
       "       'Москва ТЦ \"Семеновский\"', 'Москва ТЦ \"Серебряный Дом\"',\n",
       "       'Мытищи ТРК \"XL-3\"', 'Н.Новгород ТРЦ \"РИО\"',\n",
       "       'Н.Новгород ТРЦ \"Фантастика\"',\n",
       "       'Новосибирск ТРЦ \"Галерея Новосибирск\"', 'Новосибирск ТЦ \"Мега\"',\n",
       "       'Омск ТЦ \"Мега\"', 'РостовНаДону ТРК \"Мегацентр Горизонт\"',\n",
       "       'РостовНаДону ТРК \"Мегацентр Горизонт\" Островной',\n",
       "       'РостовНаДону ТЦ \"Мега\"', 'СПб ТК \"Невский Центр\"',\n",
       "       'СПб ТК \"Сенная\"', 'Самара ТЦ \"Мелодия\"', 'Самара ТЦ \"ПаркХаус\"',\n",
       "       'Сергиев Посад ТЦ \"7Я\"', 'Сургут ТРЦ \"Сити Молл\"',\n",
       "       'Томск ТРЦ \"Изумрудный Город\"', 'Тюмень ТРЦ \"Кристалл\"',\n",
       "       'Тюмень ТЦ \"Гудвин\"', 'Тюмень ТЦ \"Зеленый Берег\"',\n",
       "       'Уфа ТК \"Центральный\"', 'Уфа ТЦ \"Семья\" 2', 'Химки ТЦ \"Мега\"',\n",
       "       'Цифровой склад 1С-Онлайн', 'Чехов ТРЦ \"Карнавал\"',\n",
       "       'Якутск Орджоникидзе, 56', 'Якутск ТЦ \"Центральный\"',\n",
       "       'Ярославль ТЦ \"Альтаир\"'], dtype=object)"
      ]
     },
     "execution_count": 1069,
     "metadata": {},
     "output_type": "execute_result"
    }
   ],
   "source": [
    "df_s[4]['shop_name'].unique()"
   ]
  },
  {
   "cell_type": "markdown",
   "metadata": {},
   "source": [
    "Item_name correction"
   ]
  },
  {
   "cell_type": "code",
   "execution_count": 1070,
   "metadata": {},
   "outputs": [
    {
     "data": {
      "text/plain": [
       "array(['! ВО ВЛАСТИ НАВАЖДЕНИЯ (ПЛАСТ.)         D',\n",
       "       '!ABBYY FineReader 12 Professional Edition Full [PC, Цифровая версия]',\n",
       "       '***В ЛУЧАХ СЛАВЫ   (UNV)                    D', ...,\n",
       "       'Язык запросов 1С:Предприятия 8 (+CD). Хрусталева Е.Ю.',\n",
       "       'Яйцо для Little Inu', 'Яйцо дракона (Игра престолов)'],\n",
       "      dtype=object)"
      ]
     },
     "execution_count": 1070,
     "metadata": {},
     "output_type": "execute_result"
    }
   ],
   "source": [
    "df_s[0]['item_name'].unique()"
   ]
  },
  {
   "cell_type": "code",
   "execution_count": 1071,
   "metadata": {},
   "outputs": [],
   "source": [
    "pattern1 = \"[a-zA-ZА-Яа-я0-9].+(?=\\s{2})\"\n",
    "pattern2 = \"[a-zA-ZА-Яа-я0-9].+\"\n",
    "for name in df_s[0]['item_name'].unique():\n",
    "    match1 = re.findall(pattern1, name)\n",
    "    match2 = re.findall(pattern2, name)\n",
    "    if len(match1) > 0:\n",
    "        df_s[0].replace({'item_name': {name: match1[0].rstrip()}}, inplace = True)\n",
    "    else:\n",
    "        df_s[0].replace({'item_name': {name: match2[0]}}, inplace = True)"
   ]
  },
  {
   "cell_type": "code",
   "execution_count": 1072,
   "metadata": {},
   "outputs": [
    {
     "data": {
      "text/plain": [
       "array(['ВО ВЛАСТИ НАВАЖДЕНИЯ (ПЛАСТ.)',\n",
       "       'ABBYY FineReader 12 Professional Edition Full [PC, Цифровая версия]',\n",
       "       'В ЛУЧАХ СЛАВЫ   (UNV)', ...,\n",
       "       'Язык запросов 1С:Предприятия 8 (+CD). Хрусталева Е.Ю.',\n",
       "       'Яйцо для Little Inu', 'Яйцо дракона (Игра престолов)'],\n",
       "      dtype=object)"
      ]
     },
     "execution_count": 1072,
     "metadata": {},
     "output_type": "execute_result"
    }
   ],
   "source": [
    "df_s[0]['item_name'].unique()"
   ]
  },
  {
   "cell_type": "code",
   "execution_count": 1073,
   "metadata": {},
   "outputs": [
    {
     "data": {
      "text/plain": [
       "array(['PC - Гарнитуры/Наушники', 'Аксессуары - PS2', 'Аксессуары - PS3',\n",
       "       'Аксессуары - PS4', 'Аксессуары - PSP', 'Аксессуары - PSVita',\n",
       "       'Аксессуары - XBOX 360', 'Аксессуары - XBOX ONE', 'Билеты (Цифра)',\n",
       "       'Доставка товара', 'Игровые консоли - PS2',\n",
       "       'Игровые консоли - PS3', 'Игровые консоли - PS4',\n",
       "       'Игровые консоли - PSP', 'Игровые консоли - PSVita',\n",
       "       'Игровые консоли - XBOX 360', 'Игровые консоли - XBOX ONE',\n",
       "       'Игровые консоли - Прочие', 'Игры - PS2', 'Игры - PS3',\n",
       "       'Игры - PS4', 'Игры - PSP', 'Игры - PSVita', 'Игры - XBOX 360',\n",
       "       'Игры - XBOX ONE', 'Игры - Аксессуары для игр',\n",
       "       'Игры Android - Цифра', 'Игры MAC - Цифра',\n",
       "       'Игры PC - Дополнительные издания',\n",
       "       'Игры PC - Коллекционные издания', 'Игры PC - Стандартные издания',\n",
       "       'Игры PC - Цифра', 'Карты оплаты (Кино, Музыка, Игры)',\n",
       "       'Карты оплаты - Live!', 'Карты оплаты - Live! (Цифра)',\n",
       "       'Карты оплаты - PSN', 'Карты оплаты - Windows (Цифра)',\n",
       "       'Кино - Blu-Ray', 'Кино - Blu-Ray 3D', 'Кино - Blu-Ray 4K',\n",
       "       'Кино - DVD', 'Кино - Коллекционное',\n",
       "       'Книги - Артбуки, энциклопедии', 'Книги - Аудиокниги',\n",
       "       'Книги - Аудиокниги (Цифра)', 'Книги - Аудиокниги 1С',\n",
       "       'Книги - Бизнес литература', 'Книги - Комиксы, манга',\n",
       "       'Книги - Компьютерная литература',\n",
       "       'Книги - Методические материалы 1С', 'Книги - Открытки',\n",
       "       'Книги - Познавательная литература', 'Книги - Путеводители',\n",
       "       'Книги - Художественная литература', 'Книги - Цифра',\n",
       "       'Музыка - CD локального производства',\n",
       "       'Музыка - CD фирменного производства', 'Музыка - MP3',\n",
       "       'Музыка - Винил', 'Музыка - Музыкальное видео',\n",
       "       'Музыка - Подарочные издания', 'Подарки - Атрибутика',\n",
       "       'Подарки - Гаджеты, роботы, спорт', 'Подарки - Мягкие игрушки',\n",
       "       'Подарки - Настольные игры',\n",
       "       'Подарки - Настольные игры (компактные)',\n",
       "       'Подарки - Открытки, наклейки', 'Подарки - Развитие',\n",
       "       'Подарки - Сертификаты, услуги', 'Подарки - Сувениры',\n",
       "       'Подарки - Сувениры (в навеску)',\n",
       "       'Подарки - Сумки, Альбомы, Коврики д/мыши', 'Подарки - Фигурки',\n",
       "       'Программы - 1С:Предприятие 8', 'Программы - MAC (Цифра)',\n",
       "       'Программы - Для дома и офиса',\n",
       "       'Программы - Для дома и офиса (Цифра)', 'Программы - Обучающие',\n",
       "       'Программы - Обучающие (Цифра)', 'Служебные', 'Служебные - Билеты',\n",
       "       'Чистые носители (шпиль)', 'Чистые носители (штучные)',\n",
       "       'Элементы питания'], dtype=object)"
      ]
     },
     "execution_count": 1073,
     "metadata": {},
     "output_type": "execute_result"
    }
   ],
   "source": [
    "df_s[1]['item_category_name'].unique()"
   ]
  },
  {
   "cell_type": "code",
   "execution_count": 1087,
   "metadata": {},
   "outputs": [],
   "source": [
    "df_items = df_s[0]\n",
    "df_item_categories = df_s[1]\n",
    "df_sales_train = df_s[2]\n",
    "df_sample_submission = df_s[3]\n",
    "df_shops = df_s[4]\n",
    "df_test = df_s[5]"
   ]
  },
  {
   "cell_type": "markdown",
   "metadata": {},
   "source": [
    "Itegrity of data"
   ]
  },
  {
   "cell_type": "code",
   "execution_count": 1088,
   "metadata": {},
   "outputs": [
    {
     "data": {
      "text/html": [
       "<div>\n",
       "<style scoped>\n",
       "    .dataframe tbody tr th:only-of-type {\n",
       "        vertical-align: middle;\n",
       "    }\n",
       "\n",
       "    .dataframe tbody tr th {\n",
       "        vertical-align: top;\n",
       "    }\n",
       "\n",
       "    .dataframe thead th {\n",
       "        text-align: right;\n",
       "    }\n",
       "</style>\n",
       "<table border=\"1\" class=\"dataframe\">\n",
       "  <thead>\n",
       "    <tr style=\"text-align: right;\">\n",
       "      <th></th>\n",
       "      <th>ID</th>\n",
       "      <th>shop_id</th>\n",
       "      <th>item_id</th>\n",
       "      <th>item_name</th>\n",
       "      <th>item_category_id</th>\n",
       "      <th>item_category_name</th>\n",
       "      <th>shop_name</th>\n",
       "      <th>item_price</th>\n",
       "    </tr>\n",
       "  </thead>\n",
       "  <tbody>\n",
       "    <tr>\n",
       "      <th>0</th>\n",
       "      <td>0</td>\n",
       "      <td>5</td>\n",
       "      <td>5037</td>\n",
       "      <td>NHL 15 [PS3, русские субтитры]</td>\n",
       "      <td>19</td>\n",
       "      <td>Игры - PS3</td>\n",
       "      <td>Вологда ТРЦ \"Мармелад\"</td>\n",
       "      <td>1423.005469</td>\n",
       "    </tr>\n",
       "    <tr>\n",
       "      <th>1</th>\n",
       "      <td>1</td>\n",
       "      <td>5</td>\n",
       "      <td>5320</td>\n",
       "      <td>ONE DIRECTION</td>\n",
       "      <td>55</td>\n",
       "      <td>Музыка - CD локального производства</td>\n",
       "      <td>Вологда ТРЦ \"Мармелад\"</td>\n",
       "      <td>281.804765</td>\n",
       "    </tr>\n",
       "    <tr>\n",
       "      <th>2</th>\n",
       "      <td>2</td>\n",
       "      <td>5</td>\n",
       "      <td>5233</td>\n",
       "      <td>Need for Speed Rivals (Essentials) [PS3, русск...</td>\n",
       "      <td>19</td>\n",
       "      <td>Игры - PS3</td>\n",
       "      <td>Вологда ТРЦ \"Мармелад\"</td>\n",
       "      <td>1423.005469</td>\n",
       "    </tr>\n",
       "    <tr>\n",
       "      <th>3</th>\n",
       "      <td>3</td>\n",
       "      <td>5</td>\n",
       "      <td>5232</td>\n",
       "      <td>Need for Speed Rivals (Classics) [Xbox 360, ру...</td>\n",
       "      <td>23</td>\n",
       "      <td>Игры - XBOX 360</td>\n",
       "      <td>Вологда ТРЦ \"Мармелад\"</td>\n",
       "      <td>1453.872413</td>\n",
       "    </tr>\n",
       "    <tr>\n",
       "      <th>4</th>\n",
       "      <td>4</td>\n",
       "      <td>5</td>\n",
       "      <td>5268</td>\n",
       "      <td>Need for Speed [PS4, русская версия]</td>\n",
       "      <td>20</td>\n",
       "      <td>Игры - PS4</td>\n",
       "      <td>Вологда ТРЦ \"Мармелад\"</td>\n",
       "      <td>2708.510376</td>\n",
       "    </tr>\n",
       "  </tbody>\n",
       "</table>\n",
       "</div>"
      ],
      "text/plain": [
       "   ID  shop_id  item_id                                          item_name  \\\n",
       "0   0        5     5037                     NHL 15 [PS3, русские субтитры]   \n",
       "1   1        5     5320                                      ONE DIRECTION   \n",
       "2   2        5     5233  Need for Speed Rivals (Essentials) [PS3, русск...   \n",
       "3   3        5     5232  Need for Speed Rivals (Classics) [Xbox 360, ру...   \n",
       "4   4        5     5268               Need for Speed [PS4, русская версия]   \n",
       "\n",
       "   item_category_id                   item_category_name  \\\n",
       "0                19                           Игры - PS3   \n",
       "1                55  Музыка - CD локального производства   \n",
       "2                19                           Игры - PS3   \n",
       "3                23                      Игры - XBOX 360   \n",
       "4                20                           Игры - PS4   \n",
       "\n",
       "                shop_name   item_price  \n",
       "0  Вологда ТРЦ \"Мармелад\"  1423.005469  \n",
       "1  Вологда ТРЦ \"Мармелад\"   281.804765  \n",
       "2  Вологда ТРЦ \"Мармелад\"  1423.005469  \n",
       "3  Вологда ТРЦ \"Мармелад\"  1453.872413  \n",
       "4  Вологда ТРЦ \"Мармелад\"  2708.510376  "
      ]
     },
     "execution_count": 1088,
     "metadata": {},
     "output_type": "execute_result"
    }
   ],
   "source": [
    "df_item_month = df_sales_train.groupby([\"date_block_num\", \"shop_id\", \"item_id\"]).agg({'item_cnt_day':'sum', 'item_price':'mean'})\n",
    "df_train = df_item_month.rename({\"item_cnt_day\":\"item_cnt_month\"}, axis=1)\n",
    "df_train = df_train.reset_index()\n",
    "merge_params = [[df_items, 'item_id'], [df_item_categories, 'item_category_id'], [df_shops, 'shop_id']]\n",
    "for params in merge_params:\n",
    "    df_train = pd.merge(df_train, params[0], on = params[1], how = 'left')\n",
    "    df_test = pd.merge(df_test, params[0], on = params[1], how = 'left')\n",
    "df_test = df_test.merge(pd.DataFrame(df_train.groupby(\"item_category_id\").agg({'item_price':'mean'})), on = 'item_category_id')\n",
    "df_test.head()"
   ]
  },
  {
   "cell_type": "code",
   "execution_count": 1089,
   "metadata": {},
   "outputs": [
    {
     "data": {
      "text/html": [
       "<div>\n",
       "<style scoped>\n",
       "    .dataframe tbody tr th:only-of-type {\n",
       "        vertical-align: middle;\n",
       "    }\n",
       "\n",
       "    .dataframe tbody tr th {\n",
       "        vertical-align: top;\n",
       "    }\n",
       "\n",
       "    .dataframe thead th {\n",
       "        text-align: right;\n",
       "    }\n",
       "</style>\n",
       "<table border=\"1\" class=\"dataframe\">\n",
       "  <thead>\n",
       "    <tr style=\"text-align: right;\">\n",
       "      <th></th>\n",
       "      <th>date_block_num</th>\n",
       "      <th>shop_id</th>\n",
       "      <th>item_id</th>\n",
       "      <th>item_cnt_month</th>\n",
       "      <th>item_price</th>\n",
       "      <th>item_name</th>\n",
       "      <th>item_category_id</th>\n",
       "      <th>item_category_name</th>\n",
       "      <th>shop_name</th>\n",
       "    </tr>\n",
       "  </thead>\n",
       "  <tbody>\n",
       "    <tr>\n",
       "      <th>0</th>\n",
       "      <td>0</td>\n",
       "      <td>0</td>\n",
       "      <td>32</td>\n",
       "      <td>6.0</td>\n",
       "      <td>221.0</td>\n",
       "      <td>1+1</td>\n",
       "      <td>40</td>\n",
       "      <td>Кино - DVD</td>\n",
       "      <td>Якутск Орджоникидзе, 56 фран</td>\n",
       "    </tr>\n",
       "    <tr>\n",
       "      <th>1</th>\n",
       "      <td>0</td>\n",
       "      <td>0</td>\n",
       "      <td>33</td>\n",
       "      <td>3.0</td>\n",
       "      <td>347.0</td>\n",
       "      <td>1+1 (BD)</td>\n",
       "      <td>37</td>\n",
       "      <td>Кино - Blu-Ray</td>\n",
       "      <td>Якутск Орджоникидзе, 56 фран</td>\n",
       "    </tr>\n",
       "    <tr>\n",
       "      <th>2</th>\n",
       "      <td>0</td>\n",
       "      <td>0</td>\n",
       "      <td>35</td>\n",
       "      <td>1.0</td>\n",
       "      <td>247.0</td>\n",
       "      <td>10 ЛЕТ СПУСТЯ</td>\n",
       "      <td>40</td>\n",
       "      <td>Кино - DVD</td>\n",
       "      <td>Якутск Орджоникидзе, 56 фран</td>\n",
       "    </tr>\n",
       "    <tr>\n",
       "      <th>3</th>\n",
       "      <td>0</td>\n",
       "      <td>0</td>\n",
       "      <td>43</td>\n",
       "      <td>1.0</td>\n",
       "      <td>221.0</td>\n",
       "      <td>100 МИЛЛИОНОВ ЕВРО</td>\n",
       "      <td>40</td>\n",
       "      <td>Кино - DVD</td>\n",
       "      <td>Якутск Орджоникидзе, 56 фран</td>\n",
       "    </tr>\n",
       "    <tr>\n",
       "      <th>4</th>\n",
       "      <td>0</td>\n",
       "      <td>0</td>\n",
       "      <td>51</td>\n",
       "      <td>2.0</td>\n",
       "      <td>128.5</td>\n",
       "      <td>100 лучших произведений классики (mp3-CD) (Dig...</td>\n",
       "      <td>57</td>\n",
       "      <td>Музыка - MP3</td>\n",
       "      <td>Якутск Орджоникидзе, 56 фран</td>\n",
       "    </tr>\n",
       "  </tbody>\n",
       "</table>\n",
       "</div>"
      ],
      "text/plain": [
       "   date_block_num  shop_id  item_id  item_cnt_month  item_price  \\\n",
       "0               0        0       32             6.0       221.0   \n",
       "1               0        0       33             3.0       347.0   \n",
       "2               0        0       35             1.0       247.0   \n",
       "3               0        0       43             1.0       221.0   \n",
       "4               0        0       51             2.0       128.5   \n",
       "\n",
       "                                           item_name  item_category_id  \\\n",
       "0                                                1+1                40   \n",
       "1                                           1+1 (BD)                37   \n",
       "2                                      10 ЛЕТ СПУСТЯ                40   \n",
       "3                                 100 МИЛЛИОНОВ ЕВРО                40   \n",
       "4  100 лучших произведений классики (mp3-CD) (Dig...                57   \n",
       "\n",
       "  item_category_name                     shop_name  \n",
       "0         Кино - DVD  Якутск Орджоникидзе, 56 фран  \n",
       "1     Кино - Blu-Ray  Якутск Орджоникидзе, 56 фран  \n",
       "2         Кино - DVD  Якутск Орджоникидзе, 56 фран  \n",
       "3         Кино - DVD  Якутск Орджоникидзе, 56 фран  \n",
       "4       Музыка - MP3  Якутск Орджоникидзе, 56 фран  "
      ]
     },
     "execution_count": 1089,
     "metadata": {},
     "output_type": "execute_result"
    }
   ],
   "source": [
    "df_train.head()"
   ]
  },
  {
   "cell_type": "markdown",
   "metadata": {},
   "source": [
    "Check similar named shops"
   ]
  },
  {
   "cell_type": "code",
   "execution_count": 1090,
   "metadata": {},
   "outputs": [
    {
     "name": "stdout",
     "output_type": "stream",
     "text": [
      "Якутск Орджоникидзе, 56 фран\n",
      "Якутск ТЦ \"Центральный\" фран\n",
      "Воронеж ТРЦ Сити-Парк \"Град\"\n",
      "Жуковский ул. Чкалова 39м?\n",
      "Казань ТЦ \"Бехетле\"\n",
      "Москва ТК \"Буденовский\" (пав.А2)\n",
      "Москва ТЦ \"МЕГА Белая Дача II\"\n",
      "Москва ТЦ \"Новый век\" (Новокосино)\n",
      "Москва ТЦ \"Перловский\"\n",
      "Москва ТЦ \"Серебряный Дом\"\n",
      "СПб ТК \"Сенная\"\n",
      "Тюмень ТЦ \"Зеленый Берег\"\n",
      "Химки ТЦ \"Мега\"\n",
      "Вологда ТРЦ \"Мармелад\"\n",
      "Якутск Орджоникидзе, 56\n",
      "Якутск ТЦ \"Центральный\"\n",
      "Цифровой склад 1С-Онлайн\n",
      "Красноярск ТЦ \"Взлетка Плаза\"\n",
      "Выездная Торговля\n",
      "Тюмень ТРЦ \"Кристалл\"\n",
      "РостовНаДону ТРК \"Мегацентр Горизонт\"\n",
      "РостовНаДону ТРК \"Мегацентр Горизонт\" Островной\n",
      "Томск ТРЦ \"Изумрудный Город\"\n",
      "Н.Новгород ТРЦ \"РИО\"\n",
      "Мытищи ТРК \"XL-3\"\n",
      "Москва \"Распродажа\"\n",
      "Жуковский ул. Чкалова 39м²\n",
      "Новосибирск ТРЦ \"Галерея Новосибирск\"\n"
     ]
    }
   ],
   "source": [
    "for name in df_train['shop_name'].unique():\n",
    "    if df_train[df_train['shop_name'] == name].reset_index(drop = True)['date_block_num'].nunique() != 34:\n",
    "        print(name)"
   ]
  },
  {
   "cell_type": "code",
   "execution_count": 1082,
   "metadata": {},
   "outputs": [],
   "source": [
    "def shop_name_check(shop_name_1, shop_name_2):\n",
    "\n",
    "    c1 = df_train[df_train['shop_name'] == shop_name_1].reset_index(drop = True)\n",
    "    c1 = pd.DataFrame(c1.groupby('date_block_num').agg({'item_cnt_month': 'mean'}))\n",
    "    c2 = df_train[df_train['shop_name'] == shop_name_2].reset_index(drop = True)\n",
    "    c2 = pd.DataFrame(c2.groupby('date_block_num').agg({'item_cnt_month': 'mean'}))\n",
    "    \n",
    "    plt.figure(figsize = (10,6))\n",
    "\n",
    "    plt.bar(c1.index, c1['item_cnt_month'], color = 'g', label = shop_name_1, alpha = 0.8)\n",
    "    plt.bar(c2.index, c2['item_cnt_month'], color = 'b', label = shop_name_2, alpha = 0.7)\n",
    "\n",
    "    plt.xticks(range(0,34));\n",
    "    plt.legend()\n",
    "    plt.xlabel('Date_block_num')\n",
    "    plt.ylabel('item_cnt_month')\n",
    "    plt.title('Shops comparison')\n",
    "\n",
    "    plt.show()"
   ]
  },
  {
   "cell_type": "markdown",
   "metadata": {},
   "source": [
    "pair 1.Якутск Орджоникидзе, 56 фран and Якутск Орджоникидзе, 56"
   ]
  },
  {
   "cell_type": "code",
   "execution_count": 1091,
   "metadata": {},
   "outputs": [
    {
     "data": {
      "image/png": "[encoded data removed]",
      "text/plain": [
       "<Figure size 1000x600 with 1 Axes>"
      ]
     },
     "metadata": {},
     "output_type": "display_data"
    }
   ],
   "source": [
    "shop_name_check('Якутск Орджоникидзе, 56 фран', 'Якутск Орджоникидзе, 56')"
   ]
  },
  {
   "cell_type": "markdown",
   "metadata": {},
   "source": [
    "Combining them - we'll get full range of data"
   ]
  },
  {
   "cell_type": "code",
   "execution_count": 1092,
   "metadata": {},
   "outputs": [],
   "source": [
    "def shop_corr(shop_name_1, shop_name_2):\n",
    "    shop_id_1 = df_shops[df_shops['shop_name'] == shop_name_1]['shop_id'].unique()[0]\n",
    "    shop_id_2 = df_shops[df_shops['shop_name'] == shop_name_2]['shop_id'].unique()[0]\n",
    "    df_train.replace({'shop_id': {shop_id_2: shop_id_1}, 'shop_name': {shop_name_2: shop_name_1}}, inplace = True)\n",
    "    if list(df_test[df_test['shop_id'] == shop_id_2]) != 0:\n",
    "        df_test.replace({'shop_id': {shop_id_2: shop_id_1}}, inplace = True)\n",
    "    "
   ]
  },
  {
   "cell_type": "code",
   "execution_count": 1093,
   "metadata": {},
   "outputs": [],
   "source": [
    "shop_corr('Якутск Орджоникидзе, 56 фран', 'Якутск Орджоникидзе, 56')"
   ]
  },
  {
   "cell_type": "markdown",
   "metadata": {},
   "source": [
    "Якутск ТЦ \"Центральный\" фран, Якутск ТЦ \"Центральный\""
   ]
  },
  {
   "cell_type": "code",
   "execution_count": 1094,
   "metadata": {},
   "outputs": [
    {
     "data": {
      "image/png": "[encoded data removed]",
      "text/plain": [
       "<Figure size 1000x600 with 1 Axes>"
      ]
     },
     "metadata": {},
     "output_type": "display_data"
    }
   ],
   "source": [
    "shop_name_check('Якутск ТЦ \"Центральный\" фран', 'Якутск ТЦ \"Центральный\"')"
   ]
  },
  {
   "cell_type": "code",
   "execution_count": 1095,
   "metadata": {},
   "outputs": [],
   "source": [
    "shop_corr('Якутск ТЦ \"Центральный\" фран', 'Якутск ТЦ \"Центральный\"')"
   ]
  },
  {
   "cell_type": "markdown",
   "metadata": {},
   "source": [
    "Жуковский ул. Чкалова 39м?, Жуковский ул. Чкалова 39м²"
   ]
  },
  {
   "cell_type": "code",
   "execution_count": 1096,
   "metadata": {},
   "outputs": [
    {
     "data": {
      "image/png": "[encoded data removed]",
      "text/plain": [
       "<Figure size 1000x600 with 1 Axes>"
      ]
     },
     "metadata": {},
     "output_type": "display_data"
    }
   ],
   "source": [
    "shop_name_check('Жуковский ул. Чкалова 39м?', 'Жуковский ул. Чкалова 39м²')"
   ]
  },
  {
   "cell_type": "code",
   "execution_count": 1097,
   "metadata": {},
   "outputs": [],
   "source": [
    "shop_corr('Жуковский ул. Чкалова 39м?', 'Жуковский ул. Чкалова 39м²')"
   ]
  },
  {
   "cell_type": "code",
   "execution_count": 1098,
   "metadata": {},
   "outputs": [
    {
     "data": {
      "image/png": "[encoded data removed]",
      "text/plain": [
       "<Figure size 1000x600 with 1 Axes>"
      ]
     },
     "metadata": {},
     "output_type": "display_data"
    }
   ],
   "source": [
    "shop_name_1 = 'РостовНаДону ТРК \"Мегацентр Горизонт\"'\n",
    "shop_name_2 = 'РостовНаДону ТЦ \"Мега\"'\n",
    "shop_name_check(shop_name_1, shop_name_2)\n"
   ]
  },
  {
   "cell_type": "code",
   "execution_count": 1099,
   "metadata": {},
   "outputs": [],
   "source": [
    "shop_corr(shop_name_1, shop_name_2)\n"
   ]
  },
  {
   "cell_type": "code",
   "execution_count": 1100,
   "metadata": {},
   "outputs": [
    {
     "data": {
      "image/png": "[encoded data removed]",
      "text/plain": [
       "<Figure size 1000x600 with 1 Axes>"
      ]
     },
     "metadata": {},
     "output_type": "display_data"
    }
   ],
   "source": [
    "shop_name_1 = 'РостовНаДону ТРК \"Мегацентр Горизонт\"'\n",
    "shop_name_2 = 'РостовНаДону ТРК \"Мегацентр Горизонт\" Островной'\n",
    "shop_name_check(shop_name_1, shop_name_2)\n"
   ]
  },
  {
   "cell_type": "code",
   "execution_count": 1101,
   "metadata": {},
   "outputs": [],
   "source": [
    "shop_corr(shop_name_1, shop_name_2)"
   ]
  },
  {
   "cell_type": "markdown",
   "metadata": {},
   "source": [
    "Completeness and Uniqueness check"
   ]
  },
  {
   "cell_type": "code",
   "execution_count": 90,
   "metadata": {},
   "outputs": [
    {
     "name": "stdout",
     "output_type": "stream",
     "text": [
      "              date  date_block_num  shop_id  item_id  item_price  item_cnt_day\n",
      "76962   2013-01-05               0       54    20130       149.0           1.0\n",
      "1435367 2014-02-23              13       50     3423       999.0           1.0\n",
      "1496766 2014-03-23              14       21     3423       999.0           1.0\n",
      "1671873 2014-05-01              16       50     3423       999.0           1.0\n",
      "1866340 2014-07-12              18       25     3423       999.0           1.0\n",
      "2198566 2014-12-31              23       42    21619       499.0           1.0\n",
      "\n",
      "Percentage of duplicates in df_s[2]: 0.0002%\n"
     ]
    }
   ],
   "source": [
    "for i in range(len(df_s)):\n",
    "    if df_s[i].isna().values.any():\n",
    "        print(df_s[i].loc[df_s[i].isna().any(axis=1)])\n",
    "        print(f'Percentage of missing values: {(df_sales_train.isna().any().sum()/len(df_s[i])):.4%}')\n",
    "    if df_s[i].duplicated(keep = False).values.any():\n",
    "        print(df_s[i][df_s[i].duplicated()])\n",
    "        print(f'\\nPercentage of duplicates in df_s[{i}]: {(df_s[i].duplicated().sum()/len(df_s[i])):.4%}')"
   ]
  },
  {
   "cell_type": "markdown",
   "metadata": {},
   "source": [
    "As duplicates include the column item_cnt_day (date-specific value), it is no sense to fill duplicates with some other value\n",
    "Also, as percentage of duplicates too small (0.0002%) - we can painlessly delete them"
   ]
  },
  {
   "cell_type": "code",
   "execution_count": 91,
   "metadata": {},
   "outputs": [],
   "source": [
    "df_s[2].drop_duplicates(inplace=True)"
   ]
  },
  {
   "cell_type": "markdown",
   "metadata": {},
   "source": [
    "ETL - load"
   ]
  },
  {
   "cell_type": "code",
   "execution_count": 109,
   "metadata": {},
   "outputs": [],
   "source": [
    "df_train.to_csv('train.csv')\n",
    "df_test.to_csv('test.csv')"
   ]
  },
  {
   "cell_type": "code",
   "execution_count": 114,
   "metadata": {},
   "outputs": [
    {
     "data": {
      "text/html": [
       "<div>\n",
       "<style scoped>\n",
       "    .dataframe tbody tr th:only-of-type {\n",
       "        vertical-align: middle;\n",
       "    }\n",
       "\n",
       "    .dataframe tbody tr th {\n",
       "        vertical-align: top;\n",
       "    }\n",
       "\n",
       "    .dataframe thead th {\n",
       "        text-align: right;\n",
       "    }\n",
       "</style>\n",
       "<table border=\"1\" class=\"dataframe\">\n",
       "  <thead>\n",
       "    <tr style=\"text-align: right;\">\n",
       "      <th></th>\n",
       "      <th></th>\n",
       "      <th></th>\n",
       "      <th>date</th>\n",
       "      <th>item_price</th>\n",
       "      <th>item_cnt_day</th>\n",
       "    </tr>\n",
       "    <tr>\n",
       "      <th>date_block_num</th>\n",
       "      <th>shop_id</th>\n",
       "      <th>item_id</th>\n",
       "      <th></th>\n",
       "      <th></th>\n",
       "      <th></th>\n",
       "    </tr>\n",
       "  </thead>\n",
       "  <tbody>\n",
       "    <tr>\n",
       "      <th rowspan=\"5\" valign=\"top\">0</th>\n",
       "      <th rowspan=\"5\" valign=\"top\">0</th>\n",
       "      <th>32</th>\n",
       "      <td>2013-01-20</td>\n",
       "      <td>221.0</td>\n",
       "      <td>6.0</td>\n",
       "    </tr>\n",
       "    <tr>\n",
       "      <th>715</th>\n",
       "      <td>2013-01-19</td>\n",
       "      <td>91.0</td>\n",
       "      <td>3.0</td>\n",
       "    </tr>\n",
       "    <tr>\n",
       "      <th>810</th>\n",
       "      <td>2013-01-16</td>\n",
       "      <td>120.0</td>\n",
       "      <td>4.0</td>\n",
       "    </tr>\n",
       "    <tr>\n",
       "      <th>997</th>\n",
       "      <td>2013-01-08</td>\n",
       "      <td>58.0</td>\n",
       "      <td>1.0</td>\n",
       "    </tr>\n",
       "    <tr>\n",
       "      <th>1091</th>\n",
       "      <td>2013-01-28</td>\n",
       "      <td>110.0</td>\n",
       "      <td>1.0</td>\n",
       "    </tr>\n",
       "  </tbody>\n",
       "</table>\n",
       "</div>"
      ],
      "text/plain": [
       "                                     date  item_price  item_cnt_day\n",
       "date_block_num shop_id item_id                                     \n",
       "0              0       32      2013-01-20       221.0           6.0\n",
       "                       715     2013-01-19        91.0           3.0\n",
       "                       810     2013-01-16       120.0           4.0\n",
       "                       997     2013-01-08        58.0           1.0\n",
       "                       1091    2013-01-28       110.0           1.0"
      ]
     },
     "execution_count": 114,
     "metadata": {},
     "output_type": "execute_result"
    }
   ],
   "source": [
    "sales_per_month = df_sales_train.groupby(['date_block_num', 'shop_id', 'item_id'])[['date','item_price', 'item_cnt_day']].agg({'date': 'mean','item_price': 'mean', 'item_cnt_day': 'sum'})\n",
    "sales_per_month.head()"
   ]
  },
  {
   "cell_type": "code",
   "execution_count": 127,
   "metadata": {},
   "outputs": [
    {
     "data": {
      "application/vnd.plotly.v1+json": {
       "config": {
        "plotlyServerURL": "https://plot.ly"
       },
       "data": [
        {
         "alignmentgroup": "True",
         "hovertemplate": "item_category_id=%{x}<br>item_cnt_day=%{y}<extra></extra>",
         "legendgroup": "",
         "marker": {
          "color": "#636efa",
          "pattern": {
           "shape": ""
          }
         },
         "name": "",
         "offsetgroup": "",
         "orientation": "v",
         "showlegend": false,
         "textposition": "auto",
         "type": "bar",
         "x": [
          0,
          1,
          2,
          3,
          4,
          5,
          6,
          7,
          8,
          9,
          10,
          11,
          12,
          13,
          14,
          15,
          16,
          17,
          18,
          19,
          20,
          21,
          22,
          23,
          24,
          25,
          26,
          27,
          28,
          29,
          30,
          31,
          32,
          33,
          34,
          35,
          36,
          37,
          38,
          39,
          40,
          41,
          42,
          43,
          44,
          45,
          46,
          47,
          48,
          49,
          50,
          51,
          52,
          53,
          54,
          55,
          56,
          57,
          58,
          59,
          60,
          61,
          62,
          63,
          64,
          65,
          66,
          67,
          68,
          69,
          70,
          71,
          72,
          73,
          74,
          75,
          76,
          77,
          78,
          79,
          80,
          81,
          82,
          83
         ],
         "xaxis": "x",
         "y": [
          3,
          2,
          14738,
          23771,
          2057,
          6041,
          13524,
          3939,
          9492,
          6003,
          1,
          4484,
          7290,
          220,
          2070,
          4268,
          1910,
          249,
          11,
          199370,
          100400,
          27939,
          22015,
          126160,
          13476,
          17410,
          104,
          8,
          142851,
          19062,
          373060,
          30421,
          6013,
          7601,
          6540,
          23707,
          22,
          167234,
          35648,
          567,
          562392,
          28652,
          3720,
          24436,
          252,
          4928,
          11,
          6378,
          6,
          25997,
          3,
          1,
          3,
          3,
          6889,
          314401,
          7090,
          28762,
          11476,
          6096,
          1293,
          13826,
          24360,
          52513,
          33890,
          64590,
          5175,
          38895,
          116,
          29563,
          42174,
          179310,
          45230,
          13781,
          48,
          40747,
          5043,
          3497,
          2492,
          8883,
          4846,
          761,
          8090,
          9807
         ],
         "yaxis": "y"
        }
       ],
       "layout": {
        "barmode": "relative",
        "height": 800,
        "legend": {
         "tracegroupgap": 0
        },
        "margin": {
         "t": 60
        },
        "template": {
         "data": {
          "bar": [
           {
            "error_x": {
             "color": "#2a3f5f"
            },
            "error_y": {
             "color": "#2a3f5f"
            },
            "marker": {
             "line": {
              "color": "#E5ECF6",
              "width": 0.5
             },
             "pattern": {
              "fillmode": "overlay",
              "size": 10,
              "solidity": 0.2
             }
            },
            "type": "bar"
           }
          ],
          "barpolar": [
           {
            "marker": {
             "line": {
              "color": "#E5ECF6",
              "width": 0.5
             },
             "pattern": {
              "fillmode": "overlay",
              "size": 10,
              "solidity": 0.2
             }
            },
            "type": "barpolar"
           }
          ],
          "carpet": [
           {
            "aaxis": {
             "endlinecolor": "#2a3f5f",
             "gridcolor": "white",
             "linecolor": "white",
             "minorgridcolor": "white",
             "startlinecolor": "#2a3f5f"
            },
            "baxis": {
             "endlinecolor": "#2a3f5f",
             "gridcolor": "white",
             "linecolor": "white",
             "minorgridcolor": "white",
             "startlinecolor": "#2a3f5f"
            },
            "type": "carpet"
           }
          ],
          "choropleth": [
           {
            "colorbar": {
             "outlinewidth": 0,
             "ticks": ""
            },
            "type": "choropleth"
           }
          ],
          "contour": [
           {
            "colorbar": {
             "outlinewidth": 0,
             "ticks": ""
            },
            "colorscale": [
             [
              0,
              "#0d0887"
             ],
             [
              0.1111111111111111,
              "#46039f"
             ],
             [
              0.2222222222222222,
              "#7201a8"
             ],
             [
              0.3333333333333333,
              "#9c179e"
             ],
             [
              0.4444444444444444,
              "#bd3786"
             ],
             [
              0.5555555555555556,
              "#d8576b"
             ],
             [
              0.6666666666666666,
              "#ed7953"
             ],
             [
              0.7777777777777778,
              "#fb9f3a"
             ],
             [
              0.8888888888888888,
              "#fdca26"
             ],
             [
              1,
              "#f0f921"
             ]
            ],
            "type": "contour"
           }
          ],
          "contourcarpet": [
           {
            "colorbar": {
             "outlinewidth": 0,
             "ticks": ""
            },
            "type": "contourcarpet"
           }
          ],
          "heatmap": [
           {
            "colorbar": {
             "outlinewidth": 0,
             "ticks": ""
            },
            "colorscale": [
             [
              0,
              "#0d0887"
             ],
             [
              0.1111111111111111,
              "#46039f"
             ],
             [
              0.2222222222222222,
              "#7201a8"
             ],
             [
              0.3333333333333333,
              "#9c179e"
             ],
             [
              0.4444444444444444,
              "#bd3786"
             ],
             [
              0.5555555555555556,
              "#d8576b"
             ],
             [
              0.6666666666666666,
              "#ed7953"
             ],
             [
              0.7777777777777778,
              "#fb9f3a"
             ],
             [
              0.8888888888888888,
              "#fdca26"
             ],
             [
              1,
              "#f0f921"
             ]
            ],
            "type": "heatmap"
           }
          ],
          "heatmapgl": [
           {
            "colorbar": {
             "outlinewidth": 0,
             "ticks": ""
            },
            "colorscale": [
             [
              0,
              "#0d0887"
             ],
             [
              0.1111111111111111,
              "#46039f"
             ],
             [
              0.2222222222222222,
              "#7201a8"
             ],
             [
              0.3333333333333333,
              "#9c179e"
             ],
             [
              0.4444444444444444,
              "#bd3786"
             ],
             [
              0.5555555555555556,
              "#d8576b"
             ],
             [
              0.6666666666666666,
              "#ed7953"
             ],
             [
              0.7777777777777778,
              "#fb9f3a"
             ],
             [
              0.8888888888888888,
              "#fdca26"
             ],
             [
              1,
              "#f0f921"
             ]
            ],
            "type": "heatmapgl"
           }
          ],
          "histogram": [
           {
            "marker": {
             "pattern": {
              "fillmode": "overlay",
              "size": 10,
              "solidity": 0.2
             }
            },
            "type": "histogram"
           }
          ],
          "histogram2d": [
           {
            "colorbar": {
             "outlinewidth": 0,
             "ticks": ""
            },
            "colorscale": [
             [
              0,
              "#0d0887"
             ],
             [
              0.1111111111111111,
              "#46039f"
             ],
             [
              0.2222222222222222,
              "#7201a8"
             ],
             [
              0.3333333333333333,
              "#9c179e"
             ],
             [
              0.4444444444444444,
              "#bd3786"
             ],
             [
              0.5555555555555556,
              "#d8576b"
             ],
             [
              0.6666666666666666,
              "#ed7953"
             ],
             [
              0.7777777777777778,
              "#fb9f3a"
             ],
             [
              0.8888888888888888,
              "#fdca26"
             ],
             [
              1,
              "#f0f921"
             ]
            ],
            "type": "histogram2d"
           }
          ],
          "histogram2dcontour": [
           {
            "colorbar": {
             "outlinewidth": 0,
             "ticks": ""
            },
            "colorscale": [
             [
              0,
              "#0d0887"
             ],
             [
              0.1111111111111111,
              "#46039f"
             ],
             [
              0.2222222222222222,
              "#7201a8"
             ],
             [
              0.3333333333333333,
              "#9c179e"
             ],
             [
              0.4444444444444444,
              "#bd3786"
             ],
             [
              0.5555555555555556,
              "#d8576b"
             ],
             [
              0.6666666666666666,
              "#ed7953"
             ],
             [
              0.7777777777777778,
              "#fb9f3a"
             ],
             [
              0.8888888888888888,
              "#fdca26"
             ],
             [
              1,
              "#f0f921"
             ]
            ],
            "type": "histogram2dcontour"
           }
          ],
          "mesh3d": [
           {
            "colorbar": {
             "outlinewidth": 0,
             "ticks": ""
            },
            "type": "mesh3d"
           }
          ],
          "parcoords": [
           {
            "line": {
             "colorbar": {
              "outlinewidth": 0,
              "ticks": ""
             }
            },
            "type": "parcoords"
           }
          ],
          "pie": [
           {
            "automargin": true,
            "type": "pie"
           }
          ],
          "scatter": [
           {
            "fillpattern": {
             "fillmode": "overlay",
             "size": 10,
             "solidity": 0.2
            },
            "type": "scatter"
           }
          ],
          "scatter3d": [
           {
            "line": {
             "colorbar": {
              "outlinewidth": 0,
              "ticks": ""
             }
            },
            "marker": {
             "colorbar": {
              "outlinewidth": 0,
              "ticks": ""
             }
            },
            "type": "scatter3d"
           }
          ],
          "scattercarpet": [
           {
            "marker": {
             "colorbar": {
              "outlinewidth": 0,
              "ticks": ""
             }
            },
            "type": "scattercarpet"
           }
          ],
          "scattergeo": [
           {
            "marker": {
             "colorbar": {
              "outlinewidth": 0,
              "ticks": ""
             }
            },
            "type": "scattergeo"
           }
          ],
          "scattergl": [
           {
            "marker": {
             "colorbar": {
              "outlinewidth": 0,
              "ticks": ""
             }
            },
            "type": "scattergl"
           }
          ],
          "scattermapbox": [
           {
            "marker": {
             "colorbar": {
              "outlinewidth": 0,
              "ticks": ""
             }
            },
            "type": "scattermapbox"
           }
          ],
          "scatterpolar": [
           {
            "marker": {
             "colorbar": {
              "outlinewidth": 0,
              "ticks": ""
             }
            },
            "type": "scatterpolar"
           }
          ],
          "scatterpolargl": [
           {
            "marker": {
             "colorbar": {
              "outlinewidth": 0,
              "ticks": ""
             }
            },
            "type": "scatterpolargl"
           }
          ],
          "scatterternary": [
           {
            "marker": {
             "colorbar": {
              "outlinewidth": 0,
              "ticks": ""
             }
            },
            "type": "scatterternary"
           }
          ],
          "surface": [
           {
            "colorbar": {
             "outlinewidth": 0,
             "ticks": ""
            },
            "colorscale": [
             [
              0,
              "#0d0887"
             ],
             [
              0.1111111111111111,
              "#46039f"
             ],
             [
              0.2222222222222222,
              "#7201a8"
             ],
             [
              0.3333333333333333,
              "#9c179e"
             ],
             [
              0.4444444444444444,
              "#bd3786"
             ],
             [
              0.5555555555555556,
              "#d8576b"
             ],
             [
              0.6666666666666666,
              "#ed7953"
             ],
             [
              0.7777777777777778,
              "#fb9f3a"
             ],
             [
              0.8888888888888888,
              "#fdca26"
             ],
             [
              1,
              "#f0f921"
             ]
            ],
            "type": "surface"
           }
          ],
          "table": [
           {
            "cells": {
             "fill": {
              "color": "#EBF0F8"
             },
             "line": {
              "color": "white"
             }
            },
            "header": {
             "fill": {
              "color": "#C8D4E3"
             },
             "line": {
              "color": "white"
             }
            },
            "type": "table"
           }
          ]
         },
         "layout": {
          "annotationdefaults": {
           "arrowcolor": "#2a3f5f",
           "arrowhead": 0,
           "arrowwidth": 1
          },
          "autotypenumbers": "strict",
          "coloraxis": {
           "colorbar": {
            "outlinewidth": 0,
            "ticks": ""
           }
          },
          "colorscale": {
           "diverging": [
            [
             0,
             "#8e0152"
            ],
            [
             0.1,
             "#c51b7d"
            ],
            [
             0.2,
             "#de77ae"
            ],
            [
             0.3,
             "#f1b6da"
            ],
            [
             0.4,
             "#fde0ef"
            ],
            [
             0.5,
             "#f7f7f7"
            ],
            [
             0.6,
             "#e6f5d0"
            ],
            [
             0.7,
             "#b8e186"
            ],
            [
             0.8,
             "#7fbc41"
            ],
            [
             0.9,
             "#4d9221"
            ],
            [
             1,
             "#276419"
            ]
           ],
           "sequential": [
            [
             0,
             "#0d0887"
            ],
            [
             0.1111111111111111,
             "#46039f"
            ],
            [
             0.2222222222222222,
             "#7201a8"
            ],
            [
             0.3333333333333333,
             "#9c179e"
            ],
            [
             0.4444444444444444,
             "#bd3786"
            ],
            [
             0.5555555555555556,
             "#d8576b"
            ],
            [
             0.6666666666666666,
             "#ed7953"
            ],
            [
             0.7777777777777778,
             "#fb9f3a"
            ],
            [
             0.8888888888888888,
             "#fdca26"
            ],
            [
             1,
             "#f0f921"
            ]
           ],
           "sequentialminus": [
            [
             0,
             "#0d0887"
            ],
            [
             0.1111111111111111,
             "#46039f"
            ],
            [
             0.2222222222222222,
             "#7201a8"
            ],
            [
             0.3333333333333333,
             "#9c179e"
            ],
            [
             0.4444444444444444,
             "#bd3786"
            ],
            [
             0.5555555555555556,
             "#d8576b"
            ],
            [
             0.6666666666666666,
             "#ed7953"
            ],
            [
             0.7777777777777778,
             "#fb9f3a"
            ],
            [
             0.8888888888888888,
             "#fdca26"
            ],
            [
             1,
             "#f0f921"
            ]
           ]
          },
          "colorway": [
           "#636efa",
           "#EF553B",
           "#00cc96",
           "#ab63fa",
           "#FFA15A",
           "#19d3f3",
           "#FF6692",
           "#B6E880",
           "#FF97FF",
           "#FECB52"
          ],
          "font": {
           "color": "#2a3f5f"
          },
          "geo": {
           "bgcolor": "white",
           "lakecolor": "white",
           "landcolor": "#E5ECF6",
           "showlakes": true,
           "showland": true,
           "subunitcolor": "white"
          },
          "hoverlabel": {
           "align": "left"
          },
          "hovermode": "closest",
          "mapbox": {
           "style": "light"
          },
          "paper_bgcolor": "white",
          "plot_bgcolor": "#E5ECF6",
          "polar": {
           "angularaxis": {
            "gridcolor": "white",
            "linecolor": "white",
            "ticks": ""
           },
           "bgcolor": "#E5ECF6",
           "radialaxis": {
            "gridcolor": "white",
            "linecolor": "white",
            "ticks": ""
           }
          },
          "scene": {
           "xaxis": {
            "backgroundcolor": "#E5ECF6",
            "gridcolor": "white",
            "gridwidth": 2,
            "linecolor": "white",
            "showbackground": true,
            "ticks": "",
            "zerolinecolor": "white"
           },
           "yaxis": {
            "backgroundcolor": "#E5ECF6",
            "gridcolor": "white",
            "gridwidth": 2,
            "linecolor": "white",
            "showbackground": true,
            "ticks": "",
            "zerolinecolor": "white"
           },
           "zaxis": {
            "backgroundcolor": "#E5ECF6",
            "gridcolor": "white",
            "gridwidth": 2,
            "linecolor": "white",
            "showbackground": true,
            "ticks": "",
            "zerolinecolor": "white"
           }
          },
          "shapedefaults": {
           "line": {
            "color": "#2a3f5f"
           }
          },
          "ternary": {
           "aaxis": {
            "gridcolor": "white",
            "linecolor": "white",
            "ticks": ""
           },
           "baxis": {
            "gridcolor": "white",
            "linecolor": "white",
            "ticks": ""
           },
           "bgcolor": "#E5ECF6",
           "caxis": {
            "gridcolor": "white",
            "linecolor": "white",
            "ticks": ""
           }
          },
          "title": {
           "x": 0.05
          },
          "xaxis": {
           "automargin": true,
           "gridcolor": "white",
           "linecolor": "white",
           "ticks": "",
           "title": {
            "standoff": 15
           },
           "zerolinecolor": "white",
           "zerolinewidth": 2
          },
          "yaxis": {
           "automargin": true,
           "gridcolor": "white",
           "linecolor": "white",
           "ticks": "",
           "title": {
            "standoff": 15
           },
           "zerolinecolor": "white",
           "zerolinewidth": 2
          }
         }
        },
        "width": 800,
        "xaxis": {
         "anchor": "y",
         "domain": [
          0,
          1
         ],
         "showticklabels": false,
         "title": {
          "text": "Category"
         }
        },
        "yaxis": {
         "anchor": "x",
         "domain": [
          0,
          1
         ],
         "title": {
          "text": "Total sales per category"
         }
        }
       }
      }
     },
     "metadata": {},
     "output_type": "display_data"
    }
   ],
   "source": [
    "1group1 = df_sales_train.groupby('item_category_id').agg({'item_cnt_day': 'sum'})\n",
    "group1.min, group1.max\n",
    "fig = px.bar(group1, x = group1.index, y = 'item_cnt_day', width=800, height=800).update_layout(\n",
    "    xaxis_title=\"Category\", yaxis_title= \"Total sales per category\"\n",
    ")\n",
    "\n",
    "fig.update_xaxes(showticklabels=False)\n",
    "fig.show()"
   ]
  },
  {
   "cell_type": "code",
   "execution_count": 116,
   "metadata": {},
   "outputs": [
    {
     "data": {
      "text/html": [
       "<div>\n",
       "<style scoped>\n",
       "    .dataframe tbody tr th:only-of-type {\n",
       "        vertical-align: middle;\n",
       "    }\n",
       "\n",
       "    .dataframe tbody tr th {\n",
       "        vertical-align: top;\n",
       "    }\n",
       "\n",
       "    .dataframe thead th {\n",
       "        text-align: right;\n",
       "    }\n",
       "</style>\n",
       "<table border=\"1\" class=\"dataframe\">\n",
       "  <thead>\n",
       "    <tr style=\"text-align: right;\">\n",
       "      <th></th>\n",
       "      <th>item_cnt_day</th>\n",
       "    </tr>\n",
       "    <tr>\n",
       "      <th>date</th>\n",
       "      <th></th>\n",
       "    </tr>\n",
       "  </thead>\n",
       "  <tbody>\n",
       "    <tr>\n",
       "      <th>2013-01-01</th>\n",
       "      <td>28349.0</td>\n",
       "    </tr>\n",
       "    <tr>\n",
       "      <th>2013-02-01</th>\n",
       "      <td>27210.0</td>\n",
       "    </tr>\n",
       "    <tr>\n",
       "      <th>2013-03-01</th>\n",
       "      <td>34082.0</td>\n",
       "    </tr>\n",
       "    <tr>\n",
       "      <th>2013-04-01</th>\n",
       "      <td>25690.0</td>\n",
       "    </tr>\n",
       "    <tr>\n",
       "      <th>2013-05-01</th>\n",
       "      <td>23714.0</td>\n",
       "    </tr>\n",
       "  </tbody>\n",
       "</table>\n",
       "</div>"
      ],
      "text/plain": [
       "            item_cnt_day\n",
       "date                    \n",
       "2013-01-01       28349.0\n",
       "2013-02-01       27210.0\n",
       "2013-03-01       34082.0\n",
       "2013-04-01       25690.0\n",
       "2013-05-01       23714.0"
      ]
     },
     "execution_count": 116,
     "metadata": {},
     "output_type": "execute_result"
    }
   ],
   "source": [
    "cat_40 = df_sales_train[df_sales_train['item_category_name'] == 'Кино - DVD'].groupby('date_block_num')[['date', 'item_cnt_day']].agg({'date': 'min', 'item_cnt_day': 'sum'}).set_index('date')\n",
    "cat_40.head()"
   ]
  },
  {
   "cell_type": "code",
   "execution_count": 117,
   "metadata": {},
   "outputs": [
    {
     "data": {
      "text/plain": [
       "<Axes: xlabel='date'>"
      ]
     },
     "execution_count": 117,
     "metadata": {},
     "output_type": "execute_result"
    },
    {
     "data": {
      "image/png": "[encoded data removed]",
      "text/plain": [
       "<Figure size 640x480 with 1 Axes>"
      ]
     },
     "metadata": {},
     "output_type": "display_data"
    }
   ],
   "source": [
    "cat_40.plot()"
   ]
  },
  {
   "cell_type": "code",
   "execution_count": 126,
   "metadata": {},
   "outputs": [
    {
     "data": {
      "application/vnd.plotly.v1+json": {
       "config": {
        "plotlyServerURL": "https://plot.ly"
       },
       "data": [
        {
         "alignmentgroup": "True",
         "hovertemplate": "shop_name=%{x}<br>item_cnt_day=%{y}<extra></extra>",
         "legendgroup": "",
         "marker": {
          "color": "#636efa",
          "pattern": {
           "shape": ""
          }
         },
         "name": "",
         "offsetgroup": "",
         "orientation": "v",
         "showlegend": false,
         "textposition": "auto",
         "type": "bar",
         "x": [
          "!Якутск Орджоникидзе, 56 фран",
          "!Якутск ТЦ \"Центральный\" фран",
          "Адыгея ТЦ \"Мега\"",
          "Балашиха ТРК \"Октябрь-Киномир\"",
          "Волжский ТЦ \"Волга Молл\"",
          "Вологда ТРЦ \"Мармелад\"",
          "Воронеж (Плехановская, 13)",
          "Воронеж ТРЦ \"Максимир\"",
          "Воронеж ТРЦ Сити-Парк \"Град\"",
          "Выездная Торговля",
          "Жуковский ул. Чкалова 39м?",
          "Жуковский ул. Чкалова 39м²",
          "Интернет-магазин ЧС",
          "Казань ТЦ \"Бехетле\"",
          "Казань ТЦ \"ПаркХаус\" II",
          "Калуга ТРЦ \"XXI век\"",
          "Коломна ТЦ \"Рио\"",
          "Красноярск ТЦ \"Взлетка Плаза\"",
          "Красноярск ТЦ \"Июнь\"",
          "Курск ТЦ \"Пушкинский\"",
          "Москва \"Распродажа\"",
          "Москва МТРЦ \"Афи Молл\"",
          "Москва Магазин С21",
          "Москва ТК \"Буденовский\" (пав.А2)",
          "Москва ТК \"Буденовский\" (пав.К7)",
          "Москва ТРК \"Атриум\"",
          "Москва ТЦ \"Ареал\" (Беляево)",
          "Москва ТЦ \"МЕГА Белая Дача II\"",
          "Москва ТЦ \"МЕГА Теплый Стан\" II",
          "Москва ТЦ \"Новый век\" (Новокосино)",
          "Москва ТЦ \"Перловский\"",
          "Москва ТЦ \"Семеновский\"",
          "Москва ТЦ \"Серебряный Дом\"",
          "Мытищи ТРК \"XL-3\"",
          "Н.Новгород ТРЦ \"РИО\"",
          "Н.Новгород ТРЦ \"Фантастика\"",
          "Новосибирск ТРЦ \"Галерея Новосибирск\"",
          "Новосибирск ТЦ \"Мега\"",
          "Омск ТЦ \"Мега\"",
          "РостовНаДону ТРК \"Мегацентр Горизонт\"",
          "РостовНаДону ТРК \"Мегацентр Горизонт\" Островной",
          "РостовНаДону ТЦ \"Мега\"",
          "СПб ТК \"Невский Центр\"",
          "СПб ТК \"Сенная\"",
          "Самара ТЦ \"Мелодия\"",
          "Самара ТЦ \"ПаркХаус\"",
          "Сергиев Посад ТЦ \"7Я\"",
          "Сургут ТРЦ \"Сити Молл\"",
          "Томск ТРЦ \"Изумрудный Город\"",
          "Тюмень ТРЦ \"Кристалл\"",
          "Тюмень ТЦ \"Гудвин\"",
          "Тюмень ТЦ \"Зеленый Берег\"",
          "Уфа ТК \"Центральный\"",
          "Уфа ТЦ \"Семья\" 2",
          "Химки ТЦ \"Мега\"",
          "Цифровой склад 1С-Онлайн",
          "Чехов ТРЦ \"Карнавал\"",
          "Якутск Орджоникидзе, 56",
          "Якутск ТЦ \"Центральный\"",
          "Ярославль ТЦ \"Альтаир\""
         ],
         "xaxis": "x",
         "y": [
          2740,
          1378,
          25503,
          24289,
          37921,
          37017,
          86834,
          58163,
          3220,
          11717,
          4357,
          97,
          47977,
          2828,
          39023,
          61538,
          54108,
          23243,
          55317,
          63864,
          5152,
          58858,
          49562,
          6845,
          55547,
          211947,
          58175,
          118812,
          164437,
          52371,
          54713,
          272787,
          7872,
          4793,
          4863,
          55298,
          242,
          39608,
          44620,
          13275,
          4605,
          42682,
          123889,
          44016,
          40244,
          36001,
          68920,
          58629,
          20583,
          14054,
          67312,
          7404,
          43077,
          53311,
          168575,
          56609,
          68918,
          125907,
          72446,
          42014
         ],
         "yaxis": "y"
        }
       ],
       "layout": {
        "barmode": "relative",
        "height": 800,
        "legend": {
         "tracegroupgap": 0
        },
        "margin": {
         "t": 60
        },
        "template": {
         "data": {
          "bar": [
           {
            "error_x": {
             "color": "#2a3f5f"
            },
            "error_y": {
             "color": "#2a3f5f"
            },
            "marker": {
             "line": {
              "color": "#E5ECF6",
              "width": 0.5
             },
             "pattern": {
              "fillmode": "overlay",
              "size": 10,
              "solidity": 0.2
             }
            },
            "type": "bar"
           }
          ],
          "barpolar": [
           {
            "marker": {
             "line": {
              "color": "#E5ECF6",
              "width": 0.5
             },
             "pattern": {
              "fillmode": "overlay",
              "size": 10,
              "solidity": 0.2
             }
            },
            "type": "barpolar"
           }
          ],
          "carpet": [
           {
            "aaxis": {
             "endlinecolor": "#2a3f5f",
             "gridcolor": "white",
             "linecolor": "white",
             "minorgridcolor": "white",
             "startlinecolor": "#2a3f5f"
            },
            "baxis": {
             "endlinecolor": "#2a3f5f",
             "gridcolor": "white",
             "linecolor": "white",
             "minorgridcolor": "white",
             "startlinecolor": "#2a3f5f"
            },
            "type": "carpet"
           }
          ],
          "choropleth": [
           {
            "colorbar": {
             "outlinewidth": 0,
             "ticks": ""
            },
            "type": "choropleth"
           }
          ],
          "contour": [
           {
            "colorbar": {
             "outlinewidth": 0,
             "ticks": ""
            },
            "colorscale": [
             [
              0,
              "#0d0887"
             ],
             [
              0.1111111111111111,
              "#46039f"
             ],
             [
              0.2222222222222222,
              "#7201a8"
             ],
             [
              0.3333333333333333,
              "#9c179e"
             ],
             [
              0.4444444444444444,
              "#bd3786"
             ],
             [
              0.5555555555555556,
              "#d8576b"
             ],
             [
              0.6666666666666666,
              "#ed7953"
             ],
             [
              0.7777777777777778,
              "#fb9f3a"
             ],
             [
              0.8888888888888888,
              "#fdca26"
             ],
             [
              1,
              "#f0f921"
             ]
            ],
            "type": "contour"
           }
          ],
          "contourcarpet": [
           {
            "colorbar": {
             "outlinewidth": 0,
             "ticks": ""
            },
            "type": "contourcarpet"
           }
          ],
          "heatmap": [
           {
            "colorbar": {
             "outlinewidth": 0,
             "ticks": ""
            },
            "colorscale": [
             [
              0,
              "#0d0887"
             ],
             [
              0.1111111111111111,
              "#46039f"
             ],
             [
              0.2222222222222222,
              "#7201a8"
             ],
             [
              0.3333333333333333,
              "#9c179e"
             ],
             [
              0.4444444444444444,
              "#bd3786"
             ],
             [
              0.5555555555555556,
              "#d8576b"
             ],
             [
              0.6666666666666666,
              "#ed7953"
             ],
             [
              0.7777777777777778,
              "#fb9f3a"
             ],
             [
              0.8888888888888888,
              "#fdca26"
             ],
             [
              1,
              "#f0f921"
             ]
            ],
            "type": "heatmap"
           }
          ],
          "heatmapgl": [
           {
            "colorbar": {
             "outlinewidth": 0,
             "ticks": ""
            },
            "colorscale": [
             [
              0,
              "#0d0887"
             ],
             [
              0.1111111111111111,
              "#46039f"
             ],
             [
              0.2222222222222222,
              "#7201a8"
             ],
             [
              0.3333333333333333,
              "#9c179e"
             ],
             [
              0.4444444444444444,
              "#bd3786"
             ],
             [
              0.5555555555555556,
              "#d8576b"
             ],
             [
              0.6666666666666666,
              "#ed7953"
             ],
             [
              0.7777777777777778,
              "#fb9f3a"
             ],
             [
              0.8888888888888888,
              "#fdca26"
             ],
             [
              1,
              "#f0f921"
             ]
            ],
            "type": "heatmapgl"
           }
          ],
          "histogram": [
           {
            "marker": {
             "pattern": {
              "fillmode": "overlay",
              "size": 10,
              "solidity": 0.2
             }
            },
            "type": "histogram"
           }
          ],
          "histogram2d": [
           {
            "colorbar": {
             "outlinewidth": 0,
             "ticks": ""
            },
            "colorscale": [
             [
              0,
              "#0d0887"
             ],
             [
              0.1111111111111111,
              "#46039f"
             ],
             [
              0.2222222222222222,
              "#7201a8"
             ],
             [
              0.3333333333333333,
              "#9c179e"
             ],
             [
              0.4444444444444444,
              "#bd3786"
             ],
             [
              0.5555555555555556,
              "#d8576b"
             ],
             [
              0.6666666666666666,
              "#ed7953"
             ],
             [
              0.7777777777777778,
              "#fb9f3a"
             ],
             [
              0.8888888888888888,
              "#fdca26"
             ],
             [
              1,
              "#f0f921"
             ]
            ],
            "type": "histogram2d"
           }
          ],
          "histogram2dcontour": [
           {
            "colorbar": {
             "outlinewidth": 0,
             "ticks": ""
            },
            "colorscale": [
             [
              0,
              "#0d0887"
             ],
             [
              0.1111111111111111,
              "#46039f"
             ],
             [
              0.2222222222222222,
              "#7201a8"
             ],
             [
              0.3333333333333333,
              "#9c179e"
             ],
             [
              0.4444444444444444,
              "#bd3786"
             ],
             [
              0.5555555555555556,
              "#d8576b"
             ],
             [
              0.6666666666666666,
              "#ed7953"
             ],
             [
              0.7777777777777778,
              "#fb9f3a"
             ],
             [
              0.8888888888888888,
              "#fdca26"
             ],
             [
              1,
              "#f0f921"
             ]
            ],
            "type": "histogram2dcontour"
           }
          ],
          "mesh3d": [
           {
            "colorbar": {
             "outlinewidth": 0,
             "ticks": ""
            },
            "type": "mesh3d"
           }
          ],
          "parcoords": [
           {
            "line": {
             "colorbar": {
              "outlinewidth": 0,
              "ticks": ""
             }
            },
            "type": "parcoords"
           }
          ],
          "pie": [
           {
            "automargin": true,
            "type": "pie"
           }
          ],
          "scatter": [
           {
            "fillpattern": {
             "fillmode": "overlay",
             "size": 10,
             "solidity": 0.2
            },
            "type": "scatter"
           }
          ],
          "scatter3d": [
           {
            "line": {
             "colorbar": {
              "outlinewidth": 0,
              "ticks": ""
             }
            },
            "marker": {
             "colorbar": {
              "outlinewidth": 0,
              "ticks": ""
             }
            },
            "type": "scatter3d"
           }
          ],
          "scattercarpet": [
           {
            "marker": {
             "colorbar": {
              "outlinewidth": 0,
              "ticks": ""
             }
            },
            "type": "scattercarpet"
           }
          ],
          "scattergeo": [
           {
            "marker": {
             "colorbar": {
              "outlinewidth": 0,
              "ticks": ""
             }
            },
            "type": "scattergeo"
           }
          ],
          "scattergl": [
           {
            "marker": {
             "colorbar": {
              "outlinewidth": 0,
              "ticks": ""
             }
            },
            "type": "scattergl"
           }
          ],
          "scattermapbox": [
           {
            "marker": {
             "colorbar": {
              "outlinewidth": 0,
              "ticks": ""
             }
            },
            "type": "scattermapbox"
           }
          ],
          "scatterpolar": [
           {
            "marker": {
             "colorbar": {
              "outlinewidth": 0,
              "ticks": ""
             }
            },
            "type": "scatterpolar"
           }
          ],
          "scatterpolargl": [
           {
            "marker": {
             "colorbar": {
              "outlinewidth": 0,
              "ticks": ""
             }
            },
            "type": "scatterpolargl"
           }
          ],
          "scatterternary": [
           {
            "marker": {
             "colorbar": {
              "outlinewidth": 0,
              "ticks": ""
             }
            },
            "type": "scatterternary"
           }
          ],
          "surface": [
           {
            "colorbar": {
             "outlinewidth": 0,
             "ticks": ""
            },
            "colorscale": [
             [
              0,
              "#0d0887"
             ],
             [
              0.1111111111111111,
              "#46039f"
             ],
             [
              0.2222222222222222,
              "#7201a8"
             ],
             [
              0.3333333333333333,
              "#9c179e"
             ],
             [
              0.4444444444444444,
              "#bd3786"
             ],
             [
              0.5555555555555556,
              "#d8576b"
             ],
             [
              0.6666666666666666,
              "#ed7953"
             ],
             [
              0.7777777777777778,
              "#fb9f3a"
             ],
             [
              0.8888888888888888,
              "#fdca26"
             ],
             [
              1,
              "#f0f921"
             ]
            ],
            "type": "surface"
           }
          ],
          "table": [
           {
            "cells": {
             "fill": {
              "color": "#EBF0F8"
             },
             "line": {
              "color": "white"
             }
            },
            "header": {
             "fill": {
              "color": "#C8D4E3"
             },
             "line": {
              "color": "white"
             }
            },
            "type": "table"
           }
          ]
         },
         "layout": {
          "annotationdefaults": {
           "arrowcolor": "#2a3f5f",
           "arrowhead": 0,
           "arrowwidth": 1
          },
          "autotypenumbers": "strict",
          "coloraxis": {
           "colorbar": {
            "outlinewidth": 0,
            "ticks": ""
           }
          },
          "colorscale": {
           "diverging": [
            [
             0,
             "#8e0152"
            ],
            [
             0.1,
             "#c51b7d"
            ],
            [
             0.2,
             "#de77ae"
            ],
            [
             0.3,
             "#f1b6da"
            ],
            [
             0.4,
             "#fde0ef"
            ],
            [
             0.5,
             "#f7f7f7"
            ],
            [
             0.6,
             "#e6f5d0"
            ],
            [
             0.7,
             "#b8e186"
            ],
            [
             0.8,
             "#7fbc41"
            ],
            [
             0.9,
             "#4d9221"
            ],
            [
             1,
             "#276419"
            ]
           ],
           "sequential": [
            [
             0,
             "#0d0887"
            ],
            [
             0.1111111111111111,
             "#46039f"
            ],
            [
             0.2222222222222222,
             "#7201a8"
            ],
            [
             0.3333333333333333,
             "#9c179e"
            ],
            [
             0.4444444444444444,
             "#bd3786"
            ],
            [
             0.5555555555555556,
             "#d8576b"
            ],
            [
             0.6666666666666666,
             "#ed7953"
            ],
            [
             0.7777777777777778,
             "#fb9f3a"
            ],
            [
             0.8888888888888888,
             "#fdca26"
            ],
            [
             1,
             "#f0f921"
            ]
           ],
           "sequentialminus": [
            [
             0,
             "#0d0887"
            ],
            [
             0.1111111111111111,
             "#46039f"
            ],
            [
             0.2222222222222222,
             "#7201a8"
            ],
            [
             0.3333333333333333,
             "#9c179e"
            ],
            [
             0.4444444444444444,
             "#bd3786"
            ],
            [
             0.5555555555555556,
             "#d8576b"
            ],
            [
             0.6666666666666666,
             "#ed7953"
            ],
            [
             0.7777777777777778,
             "#fb9f3a"
            ],
            [
             0.8888888888888888,
             "#fdca26"
            ],
            [
             1,
             "#f0f921"
            ]
           ]
          },
          "colorway": [
           "#636efa",
           "#EF553B",
           "#00cc96",
           "#ab63fa",
           "#FFA15A",
           "#19d3f3",
           "#FF6692",
           "#B6E880",
           "#FF97FF",
           "#FECB52"
          ],
          "font": {
           "color": "#2a3f5f"
          },
          "geo": {
           "bgcolor": "white",
           "lakecolor": "white",
           "landcolor": "#E5ECF6",
           "showlakes": true,
           "showland": true,
           "subunitcolor": "white"
          },
          "hoverlabel": {
           "align": "left"
          },
          "hovermode": "closest",
          "mapbox": {
           "style": "light"
          },
          "paper_bgcolor": "white",
          "plot_bgcolor": "#E5ECF6",
          "polar": {
           "angularaxis": {
            "gridcolor": "white",
            "linecolor": "white",
            "ticks": ""
           },
           "bgcolor": "#E5ECF6",
           "radialaxis": {
            "gridcolor": "white",
            "linecolor": "white",
            "ticks": ""
           }
          },
          "scene": {
           "xaxis": {
            "backgroundcolor": "#E5ECF6",
            "gridcolor": "white",
            "gridwidth": 2,
            "linecolor": "white",
            "showbackground": true,
            "ticks": "",
            "zerolinecolor": "white"
           },
           "yaxis": {
            "backgroundcolor": "#E5ECF6",
            "gridcolor": "white",
            "gridwidth": 2,
            "linecolor": "white",
            "showbackground": true,
            "ticks": "",
            "zerolinecolor": "white"
           },
           "zaxis": {
            "backgroundcolor": "#E5ECF6",
            "gridcolor": "white",
            "gridwidth": 2,
            "linecolor": "white",
            "showbackground": true,
            "ticks": "",
            "zerolinecolor": "white"
           }
          },
          "shapedefaults": {
           "line": {
            "color": "#2a3f5f"
           }
          },
          "ternary": {
           "aaxis": {
            "gridcolor": "white",
            "linecolor": "white",
            "ticks": ""
           },
           "baxis": {
            "gridcolor": "white",
            "linecolor": "white",
            "ticks": ""
           },
           "bgcolor": "#E5ECF6",
           "caxis": {
            "gridcolor": "white",
            "linecolor": "white",
            "ticks": ""
           }
          },
          "title": {
           "x": 0.05
          },
          "xaxis": {
           "automargin": true,
           "gridcolor": "white",
           "linecolor": "white",
           "ticks": "",
           "title": {
            "standoff": 15
           },
           "zerolinecolor": "white",
           "zerolinewidth": 2
          },
          "yaxis": {
           "automargin": true,
           "gridcolor": "white",
           "linecolor": "white",
           "ticks": "",
           "title": {
            "standoff": 15
           },
           "zerolinecolor": "white",
           "zerolinewidth": 2
          }
         }
        },
        "width": 800,
        "xaxis": {
         "anchor": "y",
         "domain": [
          0,
          1
         ],
         "showticklabels": false,
         "title": {
          "text": "shop"
         }
        },
        "yaxis": {
         "anchor": "x",
         "domain": [
          0,
          1
         ],
         "title": {
          "text": "Total sales per shop"
         }
        }
       }
      }
     },
     "metadata": {},
     "output_type": "display_data"
    }
   ],
   "source": [
    "group2 = df_sales_train.groupby('shop_name').agg({'item_cnt_day': 'sum'})\n",
    "fig = px.bar(group2, x = group2.index, y = 'item_cnt_day', width=800, height=800).update_layout(\n",
    "    xaxis_title=\"shop\", yaxis_title= \"Total sales per shop\"\n",
    ")\n",
    "\n",
    "fig.update_xaxes(showticklabels=False)\n",
    "fig.show()"
   ]
  },
  {
   "cell_type": "code",
   "execution_count": 119,
   "metadata": {},
   "outputs": [
    {
     "data": {
      "text/html": [
       "<div>\n",
       "<style scoped>\n",
       "    .dataframe tbody tr th:only-of-type {\n",
       "        vertical-align: middle;\n",
       "    }\n",
       "\n",
       "    .dataframe tbody tr th {\n",
       "        vertical-align: top;\n",
       "    }\n",
       "\n",
       "    .dataframe thead th {\n",
       "        text-align: right;\n",
       "    }\n",
       "</style>\n",
       "<table border=\"1\" class=\"dataframe\">\n",
       "  <thead>\n",
       "    <tr style=\"text-align: right;\">\n",
       "      <th></th>\n",
       "      <th>shop_name</th>\n",
       "      <th>shop_id</th>\n",
       "    </tr>\n",
       "  </thead>\n",
       "  <tbody>\n",
       "    <tr>\n",
       "      <th>31</th>\n",
       "      <td>Москва ТЦ \"Семеновский\"</td>\n",
       "      <td>31</td>\n",
       "    </tr>\n",
       "  </tbody>\n",
       "</table>\n",
       "</div>"
      ],
      "text/plain": [
       "                  shop_name  shop_id\n",
       "31  Москва ТЦ \"Семеновский\"       31"
      ]
     },
     "execution_count": 119,
     "metadata": {},
     "output_type": "execute_result"
    }
   ],
   "source": [
    "df_shops[df_shops['shop_name'] == 'Москва ТЦ \"Семеновский\"']"
   ]
  },
  {
   "cell_type": "code",
   "execution_count": 120,
   "metadata": {},
   "outputs": [
    {
     "data": {
      "text/html": [
       "<div>\n",
       "<style scoped>\n",
       "    .dataframe tbody tr th:only-of-type {\n",
       "        vertical-align: middle;\n",
       "    }\n",
       "\n",
       "    .dataframe tbody tr th {\n",
       "        vertical-align: top;\n",
       "    }\n",
       "\n",
       "    .dataframe thead th {\n",
       "        text-align: right;\n",
       "    }\n",
       "</style>\n",
       "<table border=\"1\" class=\"dataframe\">\n",
       "  <thead>\n",
       "    <tr style=\"text-align: right;\">\n",
       "      <th></th>\n",
       "      <th>item_cnt_day</th>\n",
       "    </tr>\n",
       "    <tr>\n",
       "      <th>date</th>\n",
       "      <th></th>\n",
       "    </tr>\n",
       "  </thead>\n",
       "  <tbody>\n",
       "    <tr>\n",
       "      <th>2013-01-02</th>\n",
       "      <td>8826.0</td>\n",
       "    </tr>\n",
       "    <tr>\n",
       "      <th>2013-02-01</th>\n",
       "      <td>10019.0</td>\n",
       "    </tr>\n",
       "    <tr>\n",
       "      <th>2013-03-01</th>\n",
       "      <td>11513.0</td>\n",
       "    </tr>\n",
       "    <tr>\n",
       "      <th>2013-04-01</th>\n",
       "      <td>9056.0</td>\n",
       "    </tr>\n",
       "    <tr>\n",
       "      <th>2013-05-01</th>\n",
       "      <td>8788.0</td>\n",
       "    </tr>\n",
       "  </tbody>\n",
       "</table>\n",
       "</div>"
      ],
      "text/plain": [
       "            item_cnt_day\n",
       "date                    \n",
       "2013-01-02        8826.0\n",
       "2013-02-01       10019.0\n",
       "2013-03-01       11513.0\n",
       "2013-04-01        9056.0\n",
       "2013-05-01        8788.0"
      ]
     },
     "execution_count": 120,
     "metadata": {},
     "output_type": "execute_result"
    }
   ],
   "source": [
    "shop31 = df_sales_train[df_sales_train['shop_id'] == 31].groupby('date_block_num')[['date', 'item_cnt_day']].agg({'date': 'min', 'item_cnt_day': 'sum'}).set_index('date')\n",
    "shop31.head()"
   ]
  },
  {
   "cell_type": "code",
   "execution_count": 121,
   "metadata": {},
   "outputs": [
    {
     "data": {
      "text/plain": [
       "<Axes: xlabel='date'>"
      ]
     },
     "execution_count": 121,
     "metadata": {},
     "output_type": "execute_result"
    },
    {
     "data": {
      "image/png": "[encoded data removed]",
      "text/plain": [
       "<Figure size 640x480 with 1 Axes>"
      ]
     },
     "metadata": {},
     "output_type": "display_data"
    }
   ],
   "source": [
    "shop31.plot()"
   ]
  },
  {
   "cell_type": "code",
   "execution_count": 160,
   "metadata": {},
   "outputs": [
    {
     "data": {
      "text/html": [
       "<div>\n",
       "<style scoped>\n",
       "    .dataframe tbody tr th:only-of-type {\n",
       "        vertical-align: middle;\n",
       "    }\n",
       "\n",
       "    .dataframe tbody tr th {\n",
       "        vertical-align: top;\n",
       "    }\n",
       "\n",
       "    .dataframe thead th {\n",
       "        text-align: right;\n",
       "    }\n",
       "</style>\n",
       "<table border=\"1\" class=\"dataframe\">\n",
       "  <thead>\n",
       "    <tr style=\"text-align: right;\">\n",
       "      <th></th>\n",
       "      <th></th>\n",
       "      <th></th>\n",
       "      <th>date</th>\n",
       "      <th>item_price</th>\n",
       "      <th>item_cnt_day</th>\n",
       "    </tr>\n",
       "    <tr>\n",
       "      <th>date_block_num</th>\n",
       "      <th>shop_id</th>\n",
       "      <th>item_id</th>\n",
       "      <th></th>\n",
       "      <th></th>\n",
       "      <th></th>\n",
       "    </tr>\n",
       "  </thead>\n",
       "  <tbody>\n",
       "    <tr>\n",
       "      <th rowspan=\"5\" valign=\"top\">0</th>\n",
       "      <th rowspan=\"5\" valign=\"top\">0</th>\n",
       "      <th>32</th>\n",
       "      <td>2013-01-20 00:00:00</td>\n",
       "      <td>221.0</td>\n",
       "      <td>6.0</td>\n",
       "    </tr>\n",
       "    <tr>\n",
       "      <th>715</th>\n",
       "      <td>2013-01-19 00:00:00</td>\n",
       "      <td>91.0</td>\n",
       "      <td>3.0</td>\n",
       "    </tr>\n",
       "    <tr>\n",
       "      <th>810</th>\n",
       "      <td>2013-01-16 00:00:00</td>\n",
       "      <td>120.0</td>\n",
       "      <td>4.0</td>\n",
       "    </tr>\n",
       "    <tr>\n",
       "      <th>997</th>\n",
       "      <td>2013-01-08 00:00:00</td>\n",
       "      <td>58.0</td>\n",
       "      <td>1.0</td>\n",
       "    </tr>\n",
       "    <tr>\n",
       "      <th>1091</th>\n",
       "      <td>2013-01-28 00:00:00</td>\n",
       "      <td>110.0</td>\n",
       "      <td>1.0</td>\n",
       "    </tr>\n",
       "    <tr>\n",
       "      <th>...</th>\n",
       "      <th>...</th>\n",
       "      <th>...</th>\n",
       "      <td>...</td>\n",
       "      <td>...</td>\n",
       "      <td>...</td>\n",
       "    </tr>\n",
       "    <tr>\n",
       "      <th rowspan=\"5\" valign=\"top\">33</th>\n",
       "      <th rowspan=\"5\" valign=\"top\">59</th>\n",
       "      <th>21449</th>\n",
       "      <td>2015-10-30 12:00:00</td>\n",
       "      <td>449.0</td>\n",
       "      <td>2.0</td>\n",
       "    </tr>\n",
       "    <tr>\n",
       "      <th>21811</th>\n",
       "      <td>2015-10-27 00:00:00</td>\n",
       "      <td>199.0</td>\n",
       "      <td>1.0</td>\n",
       "    </tr>\n",
       "    <tr>\n",
       "      <th>22088</th>\n",
       "      <td>2015-10-15 00:00:00</td>\n",
       "      <td>119.0</td>\n",
       "      <td>2.0</td>\n",
       "    </tr>\n",
       "    <tr>\n",
       "      <th>22100</th>\n",
       "      <td>2015-10-18 00:00:00</td>\n",
       "      <td>629.0</td>\n",
       "      <td>1.0</td>\n",
       "    </tr>\n",
       "    <tr>\n",
       "      <th>22102</th>\n",
       "      <td>2015-10-16 00:00:00</td>\n",
       "      <td>1250.0</td>\n",
       "      <td>1.0</td>\n",
       "    </tr>\n",
       "  </tbody>\n",
       "</table>\n",
       "<p>1364393 rows × 3 columns</p>\n",
       "</div>"
      ],
      "text/plain": [
       "                                              date  item_price  item_cnt_day\n",
       "date_block_num shop_id item_id                                              \n",
       "0              0       32      2013-01-20 00:00:00       221.0           6.0\n",
       "                       715     2013-01-19 00:00:00        91.0           3.0\n",
       "                       810     2013-01-16 00:00:00       120.0           4.0\n",
       "                       997     2013-01-08 00:00:00        58.0           1.0\n",
       "                       1091    2013-01-28 00:00:00       110.0           1.0\n",
       "...                                            ...         ...           ...\n",
       "33             59      21449   2015-10-30 12:00:00       449.0           2.0\n",
       "                       21811   2015-10-27 00:00:00       199.0           1.0\n",
       "                       22088   2015-10-15 00:00:00       119.0           2.0\n",
       "                       22100   2015-10-18 00:00:00       629.0           1.0\n",
       "                       22102   2015-10-16 00:00:00      1250.0           1.0\n",
       "\n",
       "[1364393 rows x 3 columns]"
      ]
     },
     "execution_count": 160,
     "metadata": {},
     "output_type": "execute_result"
    }
   ],
   "source": [
    "sales_per_month.groupby('date_block_num')"
   ]
  }
 ],
 "metadata": {
  "kernelspec": {
   "display_name": "Python 3",
   "language": "python",
   "name": "python3"
  },
  "language_info": {
   "codemirror_mode": {
    "name": "ipython",
    "version": 3
   },
   "file_extension": ".py",
   "mimetype": "text/x-python",
   "name": "python",
   "nbconvert_exporter": "python",
   "pygments_lexer": "ipython3",
   "version": "3.10.11"
  }
 },
 "nbformat": 4,
 "nbformat_minor": 2
}
