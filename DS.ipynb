{
 "cells": [
  {
   "cell_type": "code",
   "execution_count": 7,
   "metadata": {},
   "outputs": [],
   "source": [
    "import os\n",
    "import opendatasets as od\n",
    "import numpy as np \n",
    "import pandas as pd\n",
    "import matplotlib.pyplot as plt\n",
    "from sklearn.preprocessing import StandardScaler\n",
    "from sklearn.model_selection import train_test_split"
   ]
  },
  {
   "cell_type": "code",
   "execution_count": 8,
   "metadata": {},
   "outputs": [
    {
     "name": "stdout",
     "output_type": "stream",
     "text": [
      "Please provide your Kaggle credentials to download this dataset. Learn more: http://bit.ly/kaggle-creds\n",
      "Your Kaggle username:Your Kaggle Key:Downloading competitive-data-science-predict-future-sales.zip to .\\competitive-data-science-predict-future-sales\n"
     ]
    },
    {
     "name": "stderr",
     "output_type": "stream",
     "text": [
      "100%|██████████| 15.1M/15.1M [00:02<00:00, 6.58MB/s]\n"
     ]
    },
    {
     "name": "stdout",
     "output_type": "stream",
     "text": [
      "\n",
      "Extracting archive .\\competitive-data-science-predict-future-sales/competitive-data-science-predict-future-sales.zip to .\\competitive-data-science-predict-future-sales\n"
     ]
    }
   ],
   "source": [
    "dataset = 'https://www.kaggle.com/competitions/competitive-data-science-predict-future-sales/data'\n",
    "od.download(dataset)"
   ]
  },
  {
   "cell_type": "code",
   "execution_count": 10,
   "metadata": {},
   "outputs": [
    {
     "data": {
      "text/plain": [
       "['items.csv',\n",
       " 'item_categories.csv',\n",
       " 'sales_train.csv',\n",
       " 'sample_submission.csv',\n",
       " 'shops.csv',\n",
       " 'test.csv']"
      ]
     },
     "execution_count": 10,
     "metadata": {},
     "output_type": "execute_result"
    }
   ],
   "source": [
    "data_dir = './competitive-data-science-predict-future-sales'\n",
    "os.listdir(data_dir)"
   ]
  },
  {
   "cell_type": "code",
   "execution_count": 11,
   "metadata": {},
   "outputs": [],
   "source": [
    "df_items = pd.read_csv('competitive-data-science-predict-future-sales/items.csv')\n",
    "df_item_categories = pd.read_csv('competitive-data-science-predict-future-sales/item_categories.csv')\n",
    "df_sales_train = pd.read_csv('competitive-data-science-predict-future-sales/sales_train.csv')\n",
    "df_sample_submission = pd.read_csv('competitive-data-science-predict-future-sales/sample_submission.csv')\n",
    "df_shops = pd.read_csv('competitive-data-science-predict-future-sales/shops.csv')\n",
    "df_test = pd.read_csv('competitive-data-science-predict-future-sales/test.csv')"
   ]
  }
 ],
 "metadata": {
  "kernelspec": {
   "display_name": "Python 3",
   "language": "python",
   "name": "python3"
  },
  "language_info": {
   "codemirror_mode": {
    "name": "ipython",
    "version": 3
   },
   "file_extension": ".py",
   "mimetype": "text/x-python",
   "name": "python",
   "nbconvert_exporter": "python",
   "pygments_lexer": "ipython3",
   "version": "3.10.11"
  }
 },
 "nbformat": 4,
 "nbformat_minor": 2
}
