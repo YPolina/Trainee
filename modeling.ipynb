{
 "cells": [
  {
   "cell_type": "code",
   "execution_count": 132,
   "metadata": {},
   "outputs": [],
   "source": [
    "import baseline\n",
    "import importlib\n",
    "importlib.reload(baseline)\n",
    "from baseline import *\n",
    "import numpy as np \n",
    "import pandas as pd\n",
    "from sklearn.preprocessing import LabelEncoder"
   ]
  },
  {
   "cell_type": "code",
   "execution_count": 177,
   "metadata": {},
   "outputs": [],
   "source": [
    "#Data loading and reduce memory usage by changing dtypes\n",
    "train = pd.read_csv('train.csv')\n",
    "test = pd.read_csv('test.csv')\n",
    "shops = pd.read_csv('shops.csv')\n",
    "items = pd.read_csv('items.csv')\n",
    "categories = pd.read_csv('item_categories.csv')"
   ]
  },
  {
   "cell_type": "code",
   "execution_count": 178,
   "metadata": {},
   "outputs": [],
   "source": [
    "#Target - item_cnt_month\n",
    "target_group = (train.groupby(['date_block_num', 'shop_id', 'item_id'])['item_cnt_day']\n",
    "                .sum().rename('item_cnt_month').reset_index())\n",
    "#From EDA step we do not see linear dependency between item_cnt_month and item_price.\n",
    "#Feature 'revenue' will give us more imformation about target\n",
    "train['revenue'] = train['item_price'] * train['item_cnt_day']"
   ]
  },
  {
   "cell_type": "code",
   "execution_count": 135,
   "metadata": {},
   "outputs": [],
   "source": [
    "'''\n",
    "According to EDA: we do have a lot of data without full range during analysing period\n",
    "and also our test set contains shop_id&item_id pairs that are nor presented in train set at all\n",
    "'''\n",
    "columns = ['date_block_num', 'shop_id', 'item_id']\n",
    "full_data = full_data_creation(df = train, agg_group = columns, periods = train.date_block_num.nunique())"
   ]
  },
  {
   "cell_type": "code",
   "execution_count": 136,
   "metadata": {},
   "outputs": [],
   "source": [
    "#Merge between full data and train set\n",
    "full_data = full_data.merge(target_group, on = columns, how = 'left')"
   ]
  },
  {
   "cell_type": "code",
   "execution_count": 137,
   "metadata": {},
   "outputs": [
    {
     "name": "stderr",
     "output_type": "stream",
     "text": [
      "C:\\Users\\User\\AppData\\Local\\Temp\\ipykernel_5400\\370786687.py:4: FutureWarning: The behavior of pd.concat with len(keys) != len(objs) is deprecated. In a future version this will raise instead of truncating to the smaller of the two sequences\n",
      "  full_data = pd.concat([full_data, test], keys = columns, ignore_index=True, sort = False)\n"
     ]
    }
   ],
   "source": [
    "#test set concatenation with full_data\n",
    "test['date_block_num'] = 34\n",
    "del test['ID']\n",
    "full_data = pd.concat([full_data, test], keys = columns, ignore_index=True, sort = False)"
   ]
  },
  {
   "cell_type": "code",
   "execution_count": 138,
   "metadata": {},
   "outputs": [],
   "source": [
    "'''\n",
    "We need:\n",
    "1. fill all missing values as item&shop pairs + test set have been added\n",
    "2. clip our target variable - original condition\n",
    "'''\n",
    "full_data = full_data.fillna(0)\n",
    "full_data['item_cnt_month'] = full_data['item_cnt_month'].clip(0,20).astype(np.float16)"
   ]
  },
  {
   "cell_type": "code",
   "execution_count": 139,
   "metadata": {},
   "outputs": [],
   "source": [
    "full_data = full_data.merge(shops, on = 'shop_id', how = 'left')\n",
    "full_data = full_data.merge(items, on = 'item_id', how = 'left')\n",
    "full_data = full_data.merge(categories, on = 'item_category_id', how = 'left')"
   ]
  },
  {
   "cell_type": "code",
   "execution_count": 140,
   "metadata": {},
   "outputs": [],
   "source": [
    "#Columns we are planning to work\n",
    "Work_columns = ['date_block_num', 'shop_id', 'item_cnt_month', 'item_id', 'city_id', 'item_category_id', 'main_category_id','minor_category_id']\n",
    "full_data = full_data.loc[:, Work_columns]\n",
    "\n",
    "#As we make transformations during DQL with shop_id, we will encode it with LabelEncoding\n",
    "full_data['shop_id'] = LabelEncoder().fit_transform(full_data['shop_id'])"
   ]
  },
  {
   "cell_type": "code",
   "execution_count": 141,
   "metadata": {},
   "outputs": [
    {
     "name": "stdout",
     "output_type": "stream",
     "text": [
      "Mem. usage decreased to 105.42 Mb (82.8% reduction)\n",
      "<class 'pandas.core.frame.DataFrame'>\n",
      "RangeIndex: 11054182 entries, 0 to 11054181\n",
      "Data columns (total 8 columns):\n",
      " #   Column             Dtype  \n",
      "---  ------             -----  \n",
      " 0   date_block_num     int8   \n",
      " 1   shop_id            int8   \n",
      " 2   item_cnt_month     float16\n",
      " 3   item_id            int16  \n",
      " 4   city_id            int8   \n",
      " 5   item_category_id   int8   \n",
      " 6   main_category_id   int8   \n",
      " 7   minor_category_id  int8   \n",
      "dtypes: float16(1), int16(1), int8(6)\n",
      "memory usage: 105.4 MB\n"
     ]
    }
   ],
   "source": [
    "reduce_mem_usage(full_data)\n",
    "full_data.info()"
   ]
  },
  {
   "cell_type": "code",
   "execution_count": 142,
   "metadata": {},
   "outputs": [
    {
     "data": {
      "text/plain": [
       "'Data is valid'"
      ]
     },
     "execution_count": 142,
     "metadata": {},
     "output_type": "execute_result"
    }
   ],
   "source": [
    "#Check if our train data is valid\n",
    "column_types = {'date_block_num': 'int8', 'shop_id': 'int8', 'city_id': 'int8', 'item_id': 'int16', 'item_cnt_month': 'float16',\n",
    "'item_category_id': 'int8', 'main_category_id': 'int8', 'minor_category_id': 'int8'}\n",
    "values_ranges = {'date_block_num': (0, 34), 'shop_id': (0, 59), 'item_id': (0, 22169), 'item_cnt_month': (0, 669), 'city_id':(0,30),\n",
    "                'item_category_id': (0,83), 'main_category_id': (0,11), 'minor_category_id': (0, 66)}\n",
    "Validator(column_types = column_types, value_ranges = values_ranges, check_missing = True, check_duplicates=True).fit_transform(full_data)"
   ]
  },
  {
   "cell_type": "markdown",
   "metadata": {},
   "source": [
    "Feature exctraction"
   ]
  },
  {
   "cell_type": "code",
   "execution_count": 143,
   "metadata": {},
   "outputs": [],
   "source": [
    "#From EDA we see a lot of missings in different features during the date period\n",
    "#We will create feature_history with number of months (for example for shop) that feature exists\n",
    "full_data = history_features(df = full_data, agg = 'shop_id', new_feature = 'shop_history')\n",
    "full_data = history_features(df = full_data, agg = 'item_id', new_feature = 'item_history')\n",
    "full_data = history_features(df = full_data, agg = 'minor_category_id', new_feature = 'minor_category_history')"
   ]
  },
  {
   "cell_type": "code",
   "execution_count": 144,
   "metadata": {},
   "outputs": [],
   "source": [
    "#Features from aggregations\n",
    "agg_list = [\n",
    "    (['date_block_num', 'item_category_id'], 'avg_item_cnt_per_cat', {'item_cnt_month': 'mean'}),\n",
    "    (['date_block_num', 'city_id'], 'avg_item_cnt_per_city', {'item_cnt_month': 'mean'}),\n",
    "    (['date_block_num', 'shop_id'], 'avg_item_cnt_per_shop', {'item_cnt_month': 'mean'}),\n",
    "    (['date_block_num', 'item_category_id', 'shop_id'], 'avg_item_cnt_per_cat_per_shop', {'item_cnt_month': 'mean'}),\n",
    "    (['date_block_num', 'item_id'], 'avg_item_cnt_per_item', {'item_cnt_month': 'mean'}),\n",
    "    (['date_block_num', 'item_category_id', 'shop_id'], 'med_item_cnt_per_cat_per_shop', {'item_cnt_month': 'median'}),\n",
    "    (['date_block_num', 'main_category_id'], 'avg_item_cnt_per_main_cat', {'item_cnt_month': 'mean'}),\n",
    "    (['date_block_num', 'minor_category_id'], 'avg_item_cnt_per_minor_cat', {'item_cnt_month': 'mean'}),\n",
    "    (['date_block_num', 'shop_id', 'item_id'], 'avg_item_cnt_per_date_block', {'item_cnt_month': 'mean'}),\n",
    "    (['item_id'], 'first_sales_date_block', {'item_cnt_month': 'min'})\n",
    "]\n",
    "\n",
    "\n",
    "for agg, new_col, aggregation in agg_list:\n",
    "    full_data = feat_from_agg(full_data, agg, new_col, aggregation, full_data)\n",
    "\n",
    "\n",
    "full_data['first_sales_date_block'] = full_data['first_sales_date_block'].fillna(34)"
   ]
  },
  {
   "cell_type": "code",
   "execution_count": 145,
   "metadata": {},
   "outputs": [
    {
     "name": "stdout",
     "output_type": "stream",
     "text": [
      "Mem. usage decreased to 358.43 Mb (50.0% reduction)\n",
      "<class 'pandas.core.frame.DataFrame'>\n",
      "RangeIndex: 11054182 entries, 0 to 11054181\n",
      "Data columns (total 21 columns):\n",
      " #   Column                         Dtype  \n",
      "---  ------                         -----  \n",
      " 0   date_block_num                 int8   \n",
      " 1   shop_id                        int8   \n",
      " 2   item_cnt_month                 float16\n",
      " 3   item_id                        int16  \n",
      " 4   city_id                        int8   \n",
      " 5   item_category_id               int8   \n",
      " 6   main_category_id               int8   \n",
      " 7   minor_category_id              int8   \n",
      " 8   shop_history                   int8   \n",
      " 9   item_history                   float16\n",
      " 10  minor_category_history         int8   \n",
      " 11  avg_item_cnt_per_cat           float16\n",
      " 12  avg_item_cnt_per_city          float16\n",
      " 13  avg_item_cnt_per_shop          float16\n",
      " 14  avg_item_cnt_per_cat_per_shop  float16\n",
      " 15  avg_item_cnt_per_item          float16\n",
      " 16  med_item_cnt_per_cat_per_shop  float16\n",
      " 17  avg_item_cnt_per_main_cat      float16\n",
      " 18  avg_item_cnt_per_minor_cat     float16\n",
      " 19  avg_item_cnt_per_date_block    float16\n",
      " 20  first_sales_date_block         float16\n",
      "dtypes: float16(12), int16(1), int8(8)\n",
      "memory usage: 358.4 MB\n"
     ]
    }
   ],
   "source": [
    "reduce_mem_usage(full_data)\n",
    "full_data.info()"
   ]
  },
  {
   "cell_type": "code",
   "execution_count": 146,
   "metadata": {},
   "outputs": [],
   "source": [
    "#Lags of aggregational features\n",
    "#All aggregations will be delted to avoid data leakage\n",
    "lag_dict = {'avg_item_cnt_per_cat': [1], 'avg_item_cnt_per_shop': [1], 'avg_item_cnt_per_item': [1],\n",
    "            'avg_item_cnt_per_city': [1], 'avg_item_cnt_per_cat_per_shop': [1], \n",
    "            'med_item_cnt_per_cat_per_shop': [1], 'avg_item_cnt_per_main_cat': [1],\n",
    "            'avg_item_cnt_per_minor_cat': [1], 'avg_item_cnt_per_date_block': [1,2,3],\n",
    "            'item_cnt_month': [1,2,3,6,12]}\n",
    "\n",
    "for feature, lags in lag_dict.items():\n",
    "    full_data = lag_features(df = reduce_mem_usage(full_data, verbose=False), col = feature, lags = lags)\n",
    "    if feature != 'item_cnt_month':\n",
    "        del full_data[feature]"
   ]
  },
  {
   "cell_type": "code",
   "execution_count": 151,
   "metadata": {},
   "outputs": [
    {
     "data": {
      "text/plain": [
       "Index(['date_block_num', 'shop_id', 'item_cnt_month', 'item_id', 'city_id',\n",
       "       'item_category_id', 'main_category_id', 'minor_category_id',\n",
       "       'shop_history', 'item_history', 'minor_category_history',\n",
       "       'first_sales_date_block', 'avg_item_cnt_per_cat_lag_1',\n",
       "       'avg_item_cnt_per_shop_lag_1', 'avg_item_cnt_per_item_lag_1',\n",
       "       'avg_item_cnt_per_city_lag_1', 'avg_item_cnt_per_cat_per_shop_lag_1',\n",
       "       'med_item_cnt_per_cat_per_shop_lag_1',\n",
       "       'avg_item_cnt_per_main_cat_lag_1', 'avg_item_cnt_per_minor_cat_lag_1',\n",
       "       'avg_item_cnt_per_date_block_lag_1',\n",
       "       'avg_item_cnt_per_date_block_lag_2',\n",
       "       'avg_item_cnt_per_date_block_lag_3', 'item_cnt_month_lag_1',\n",
       "       'item_cnt_month_lag_2', 'item_cnt_month_lag_3', 'item_cnt_month_lag_6',\n",
       "       'item_cnt_month_lag_12', 'delta_price_lag_1'],\n",
       "      dtype='object')"
      ]
     },
     "execution_count": 151,
     "metadata": {},
     "output_type": "execute_result"
    }
   ],
   "source": [
    "full_data.columns"
   ]
  },
  {
   "cell_type": "code",
   "execution_count": null,
   "metadata": {},
   "outputs": [],
   "source": [
    "full_data = feat_from_agg(df = train, agg = ['item_id'], new_col = 'item_avg_item_price', aggregation = {'item_price': ['mean']}, output_df = full_data)\n",
    "full_data['item_avg_item_price'] = full_data['item_avg_item_price'].astype(np.float16)\n",
    "\n",
    "full_data = feat_from_agg(df = train, agg = ['date_block_num','item_id'], new_col = 'date_item_avg_item_price', aggregation = {'item_price': ['mean']}, output_df = full_data)\n",
    "full_data['date_item_avg_item_price'] = full_data['date_item_avg_item_price'].astype(np.float16)\n",
    "\n",
    "full_data = lag_features(full_data, 'date_item_avg_item_price', [1])\n",
    "full_data['delta_price_lag_1'] = (full_data['date_item_avg_item_price_lag_1'] - full_data['item_avg_item_price']) / full_data['item_avg_item_price']\n",
    "\n",
    "del full_data['item_avg_item_price']\n",
    "del full_data['date_item_avg_item_price']\n",
    "del full_data['date_item_avg_item_price_lag_1']"
   ]
  },
  {
   "cell_type": "code",
   "execution_count": 170,
   "metadata": {},
   "outputs": [],
   "source": [
    "#Features with last sales\n",
    "full_data = last_sales(df = full_data, new_feature = 'item_shop_last_sale', item_shop = True)\n",
    "full_data = last_sales(df = full_data, new_feature = 'item_last_sale', item_shop = False)\n",
    "\n",
    "#On basis of items last sales - first sales\n",
    "full_data['item_shop_first_sale'] = full_data['date_block_num'] - full_data.groupby(['item_id','shop_id'])['date_block_num'].transform('min')\n",
    "full_data['item_first_sale'] = full_data['date_block_num'] - full_data.groupby('item_id')['date_block_num'].transform('min')"
   ]
  },
  {
   "cell_type": "code",
   "execution_count": 179,
   "metadata": {},
   "outputs": [],
   "source": [
    "train = train.merge(items.loc[:, ['item_id', 'item_category_id']], on = 'item_id', how = 'left')\n",
    "train = train.merge(shops.loc[:, ['shop_id', 'city_id']], on = 'shop_id', how = 'left')"
   ]
  },
  {
   "cell_type": "code",
   "execution_count": null,
   "metadata": {},
   "outputs": [],
   "source": [
    "full_data = feat_from_agg(df = train, agg = ['item_id'], new_col = 'item_avg_item_price', aggregation = {'item_price': ['mean']}, output_df = full_data)\n",
    "full_data['item_avg_item_price'] = full_data['item_avg_item_price'].astype(np.float16)\n",
    "\n",
    "full_data = feat_from_agg(df = train, agg = ['date_block_num','item_id'], new_col = 'date_item_avg_item_price', aggregation = {'item_price': ['mean']}, output_df = full_data)\n",
    "full_data['date_item_avg_item_price'] = full_data['date_item_avg_item_price'].astype(np.float16)\n",
    "\n",
    "full_data = lag_features(full_data, 'date_item_avg_item_price', [1])\n",
    "full_data['delta_price_lag_1'] = (full_data['date_item_avg_item_price_lag_1'] - full_data['item_avg_item_price']) / full_data['item_avg_item_price']\n",
    "\n",
    "del full_data['item_avg_item_price']\n",
    "del full_data['date_item_avg_item_price']\n",
    "del full_data['date_item_avg_item_price_lag_1']"
   ]
  },
  {
   "cell_type": "code",
   "execution_count": 161,
   "metadata": {},
   "outputs": [],
   "source": [
    "#Revenue and their lags\n",
    "\n",
    "agg_list = [\n",
    "    (['date_block_num', 'item_category_id', 'shop_id'], 'sales_per_category_per_shop', {'revenue': 'sum'}),\n",
    "    (['date_block_num', 'shop_id'], 'sales_per_shop', {'revenue': 'sum'}),\n",
    "    (['date_block_num', 'item_id'], 'sales_per_item', {'revenue': 'sum'}),\n",
    "]\n",
    "\n",
    "\n",
    "for agg, new_col, aggregation in agg_list:\n",
    "    full_data = feat_from_agg(train, agg, new_col, aggregation, output_df=full_data)\n",
    "    "
   ]
  },
  {
   "cell_type": "code",
   "execution_count": 169,
   "metadata": {},
   "outputs": [],
   "source": [
    "lag_dict = {'sales_per_category_per_shop': [1], 'sales_per_shop': [1],\n",
    "            'sales_per_item': [1]}\n",
    "\n",
    "for feature, lags in lag_dict.items():\n",
    "    full_data = lag_features(df = full_data, col = feature, lags = lags)\n",
    "    del full_data[feature]"
   ]
  },
  {
   "cell_type": "code",
   "execution_count": 175,
   "metadata": {},
   "outputs": [
    {
     "data": {
      "text/plain": [
       "Index(['date_block_num', 'shop_id', 'item_cnt_month', 'item_id', 'city_id',\n",
       "       'item_category_id', 'main_category_id', 'minor_category_id',\n",
       "       'shop_history', 'item_history', 'minor_category_history',\n",
       "       'first_sales_date_block', 'avg_item_cnt_per_cat_lag_1',\n",
       "       'avg_item_cnt_per_shop_lag_1', 'avg_item_cnt_per_item_lag_1',\n",
       "       'avg_item_cnt_per_city_lag_1', 'avg_item_cnt_per_cat_per_shop_lag_1',\n",
       "       'med_item_cnt_per_cat_per_shop_lag_1',\n",
       "       'avg_item_cnt_per_main_cat_lag_1', 'avg_item_cnt_per_minor_cat_lag_1',\n",
       "       'avg_item_cnt_per_date_block_lag_1',\n",
       "       'avg_item_cnt_per_date_block_lag_2',\n",
       "       'avg_item_cnt_per_date_block_lag_3', 'item_cnt_month_lag_1',\n",
       "       'item_cnt_month_lag_2', 'item_cnt_month_lag_3', 'item_cnt_month_lag_6',\n",
       "       'item_cnt_month_lag_12', 'delta_price_lag_1',\n",
       "       'sales_per_category_per_shop_lag_1', 'sales_per_shop_lag_1',\n",
       "       'sales_per_item_lag_1', 'item_shop_last_sale', 'item_last_sale',\n",
       "       'item_shop_first_sale', 'item_first_sale'],\n",
       "      dtype='object')"
      ]
     },
     "execution_count": 175,
     "metadata": {},
     "output_type": "execute_result"
    }
   ],
   "source": [
    "full_data.columns"
   ]
  },
  {
   "cell_type": "code",
   "execution_count": null,
   "metadata": {},
   "outputs": [],
   "source": []
  },
  {
   "cell_type": "code",
   "execution_count": 180,
   "metadata": {},
   "outputs": [],
   "source": [
    "#As for the item_price - delta_revenue\n",
    "full_data = feat_from_agg(df = train, agg = ['shop_id'], new_col = 'avg_sales_per_shop', aggregation = {'revenue': ['mean']}, output_df = full_data)\n",
    "full_data['avg_sales_per_shop'] = full_data['avg_sales_per_shop'].astype(np.float32)\n",
    "\n",
    "full_data['delta_revenue_lag_1'] = (full_data['sales_per_shop_lag_1'] - full_data['avg_sales_per_shop']) / full_data['avg_sales_per_shop']\n",
    "\n",
    "del full_data['avg_sales_per_shop']\n",
    "del full_data['sales_per_shop_lag_1']\n"
   ]
  },
  {
   "cell_type": "code",
   "execution_count": 221,
   "metadata": {},
   "outputs": [],
   "source": [
    "check = full_data.copy()\n",
    "del check['item_shop_last_sale']"
   ]
  },
  {
   "cell_type": "code",
   "execution_count": 223,
   "metadata": {},
   "outputs": [
    {
     "name": "stderr",
     "output_type": "stream",
     "text": [
      "c:\\Users\\User\\OneDrive\\Рабочий стол\\Trainee\\venv\\Lib\\site-packages\\pandas\\io\\formats\\format.py:1458: RuntimeWarning: overflow encountered in cast\n",
      "  has_large_values = (abs_vals > 1e6).any()\n",
      "c:\\Users\\User\\OneDrive\\Рабочий стол\\Trainee\\venv\\Lib\\site-packages\\pandas\\io\\formats\\format.py:1458: RuntimeWarning: overflow encountered in cast\n",
      "  has_large_values = (abs_vals > 1e6).any()\n"
     ]
    },
    {
     "data": {
      "text/html": [
       "<div>\n",
       "<style scoped>\n",
       "    .dataframe tbody tr th:only-of-type {\n",
       "        vertical-align: middle;\n",
       "    }\n",
       "\n",
       "    .dataframe tbody tr th {\n",
       "        vertical-align: top;\n",
       "    }\n",
       "\n",
       "    .dataframe thead th {\n",
       "        text-align: right;\n",
       "    }\n",
       "</style>\n",
       "<table border=\"1\" class=\"dataframe\">\n",
       "  <thead>\n",
       "    <tr style=\"text-align: right;\">\n",
       "      <th></th>\n",
       "      <th>date_block_num</th>\n",
       "      <th>shop_id</th>\n",
       "      <th>item_cnt_month</th>\n",
       "      <th>item_id</th>\n",
       "      <th>city_id</th>\n",
       "      <th>item_category_id</th>\n",
       "      <th>main_category_id</th>\n",
       "      <th>minor_category_id</th>\n",
       "      <th>shop_history</th>\n",
       "      <th>item_history</th>\n",
       "      <th>...</th>\n",
       "      <th>item_cnt_month_lag_6</th>\n",
       "      <th>item_cnt_month_lag_12</th>\n",
       "      <th>delta_price_lag_1</th>\n",
       "      <th>sales_per_category_per_shop_lag_1</th>\n",
       "      <th>sales_per_item_lag_1</th>\n",
       "      <th>item_last_sale</th>\n",
       "      <th>item_shop_first_sale</th>\n",
       "      <th>item_first_sale</th>\n",
       "      <th>delta_revenue_lag_1</th>\n",
       "      <th>item_shop_key</th>\n",
       "    </tr>\n",
       "  </thead>\n",
       "  <tbody>\n",
       "    <tr>\n",
       "      <th>7107409</th>\n",
       "      <td>20</td>\n",
       "      <td>0</td>\n",
       "      <td>0.0</td>\n",
       "      <td>0</td>\n",
       "      <td>0</td>\n",
       "      <td>40</td>\n",
       "      <td>6</td>\n",
       "      <td>6</td>\n",
       "      <td>34</td>\n",
       "      <td>1.0</td>\n",
       "      <td>...</td>\n",
       "      <td>NaN</td>\n",
       "      <td>NaN</td>\n",
       "      <td>NaN</td>\n",
       "      <td>NaN</td>\n",
       "      <td>NaN</td>\n",
       "      <td>-1</td>\n",
       "      <td>0</td>\n",
       "      <td>0</td>\n",
       "      <td>NaN</td>\n",
       "      <td>0_0</td>\n",
       "    </tr>\n",
       "    <tr>\n",
       "      <th>7113479</th>\n",
       "      <td>20</td>\n",
       "      <td>1</td>\n",
       "      <td>0.0</td>\n",
       "      <td>0</td>\n",
       "      <td>1</td>\n",
       "      <td>40</td>\n",
       "      <td>6</td>\n",
       "      <td>6</td>\n",
       "      <td>34</td>\n",
       "      <td>1.0</td>\n",
       "      <td>...</td>\n",
       "      <td>NaN</td>\n",
       "      <td>NaN</td>\n",
       "      <td>NaN</td>\n",
       "      <td>NaN</td>\n",
       "      <td>NaN</td>\n",
       "      <td>-1</td>\n",
       "      <td>0</td>\n",
       "      <td>0</td>\n",
       "      <td>NaN</td>\n",
       "      <td>0_1</td>\n",
       "    </tr>\n",
       "    <tr>\n",
       "      <th>7155969</th>\n",
       "      <td>20</td>\n",
       "      <td>11</td>\n",
       "      <td>0.0</td>\n",
       "      <td>0</td>\n",
       "      <td>8</td>\n",
       "      <td>40</td>\n",
       "      <td>6</td>\n",
       "      <td>6</td>\n",
       "      <td>34</td>\n",
       "      <td>1.0</td>\n",
       "      <td>...</td>\n",
       "      <td>NaN</td>\n",
       "      <td>NaN</td>\n",
       "      <td>NaN</td>\n",
       "      <td>NaN</td>\n",
       "      <td>NaN</td>\n",
       "      <td>-1</td>\n",
       "      <td>0</td>\n",
       "      <td>0</td>\n",
       "      <td>NaN</td>\n",
       "      <td>0_11</td>\n",
       "    </tr>\n",
       "    <tr>\n",
       "      <th>7162039</th>\n",
       "      <td>20</td>\n",
       "      <td>12</td>\n",
       "      <td>0.0</td>\n",
       "      <td>0</td>\n",
       "      <td>9</td>\n",
       "      <td>40</td>\n",
       "      <td>6</td>\n",
       "      <td>6</td>\n",
       "      <td>34</td>\n",
       "      <td>1.0</td>\n",
       "      <td>...</td>\n",
       "      <td>NaN</td>\n",
       "      <td>NaN</td>\n",
       "      <td>NaN</td>\n",
       "      <td>NaN</td>\n",
       "      <td>NaN</td>\n",
       "      <td>-1</td>\n",
       "      <td>0</td>\n",
       "      <td>0</td>\n",
       "      <td>NaN</td>\n",
       "      <td>0_12</td>\n",
       "    </tr>\n",
       "    <tr>\n",
       "      <th>7168109</th>\n",
       "      <td>20</td>\n",
       "      <td>13</td>\n",
       "      <td>0.0</td>\n",
       "      <td>0</td>\n",
       "      <td>10</td>\n",
       "      <td>40</td>\n",
       "      <td>6</td>\n",
       "      <td>6</td>\n",
       "      <td>34</td>\n",
       "      <td>1.0</td>\n",
       "      <td>...</td>\n",
       "      <td>NaN</td>\n",
       "      <td>NaN</td>\n",
       "      <td>NaN</td>\n",
       "      <td>NaN</td>\n",
       "      <td>NaN</td>\n",
       "      <td>-1</td>\n",
       "      <td>0</td>\n",
       "      <td>0</td>\n",
       "      <td>NaN</td>\n",
       "      <td>0_13</td>\n",
       "    </tr>\n",
       "  </tbody>\n",
       "</table>\n",
       "<p>5 rows × 36 columns</p>\n",
       "</div>"
      ],
      "text/plain": [
       "         date_block_num  shop_id  item_cnt_month  item_id  city_id  \\\n",
       "7107409              20        0             0.0        0        0   \n",
       "7113479              20        1             0.0        0        1   \n",
       "7155969              20       11             0.0        0        8   \n",
       "7162039              20       12             0.0        0        9   \n",
       "7168109              20       13             0.0        0       10   \n",
       "\n",
       "         item_category_id  main_category_id  minor_category_id  shop_history  \\\n",
       "7107409                40                 6                  6            34   \n",
       "7113479                40                 6                  6            34   \n",
       "7155969                40                 6                  6            34   \n",
       "7162039                40                 6                  6            34   \n",
       "7168109                40                 6                  6            34   \n",
       "\n",
       "         item_history  ...  item_cnt_month_lag_6  item_cnt_month_lag_12  \\\n",
       "7107409           1.0  ...                   NaN                    NaN   \n",
       "7113479           1.0  ...                   NaN                    NaN   \n",
       "7155969           1.0  ...                   NaN                    NaN   \n",
       "7162039           1.0  ...                   NaN                    NaN   \n",
       "7168109           1.0  ...                   NaN                    NaN   \n",
       "\n",
       "         delta_price_lag_1  sales_per_category_per_shop_lag_1  \\\n",
       "7107409                NaN                                NaN   \n",
       "7113479                NaN                                NaN   \n",
       "7155969                NaN                                NaN   \n",
       "7162039                NaN                                NaN   \n",
       "7168109                NaN                                NaN   \n",
       "\n",
       "         sales_per_item_lag_1  item_last_sale  item_shop_first_sale  \\\n",
       "7107409                   NaN              -1                     0   \n",
       "7113479                   NaN              -1                     0   \n",
       "7155969                   NaN              -1                     0   \n",
       "7162039                   NaN              -1                     0   \n",
       "7168109                   NaN              -1                     0   \n",
       "\n",
       "         item_first_sale  delta_revenue_lag_1  item_shop_key  \n",
       "7107409                0                  NaN            0_0  \n",
       "7113479                0                  NaN            0_1  \n",
       "7155969                0                  NaN           0_11  \n",
       "7162039                0                  NaN           0_12  \n",
       "7168109                0                  NaN           0_13  \n",
       "\n",
       "[5 rows x 36 columns]"
      ]
     },
     "execution_count": 223,
     "metadata": {},
     "output_type": "execute_result"
    }
   ],
   "source": [
    "# Create a unique key for each (item_id, shop_id) combination\n",
    "check['item_shop_key'] = check['item_id'].astype(str) + '_' + check['shop_id'].astype(str)\n",
    "\n",
    "# Sort by date to ensure proper order for the lagged calculation\n",
    "check = check.sort_values(by=['item_shop_key', 'date_block_num'])\n",
    "check.head(5)"
   ]
  },
  {
   "cell_type": "code",
   "execution_count": 248,
   "metadata": {},
   "outputs": [],
   "source": [
    "#Last sale feature\n",
    "full_data['last_sale'] = full_data.groupby(['shop_id', 'item_id'])['date_block_num'].shift(1)\n",
    "full_data['last_sale'] = full_data['last_sale']\n",
    "# Calculate the number of months since the last sale\n",
    "full_data['months_from_last_sale'] = full_data['date_block_num'] - full_data['last_sale']\n",
    "# Calculate the number of months since the first sale\n",
    "full_data['months_from_first_sale'] = full_data['date_block_num'] - full_data.groupby(['shop_id', 'item_id'])['date_block_num'].transform('min')\n",
    "del full_data['last_sale']\n",
    "full_data['months_from_last_sale'] = full_data['months_from_last_sale'].fillna(-1)"
   ]
  },
  {
   "cell_type": "code",
   "execution_count": 249,
   "metadata": {},
   "outputs": [],
   "source": [
    "full_data = full_data.fillna(0)"
   ]
  },
  {
   "cell_type": "code",
   "execution_count": null,
   "metadata": {},
   "outputs": [],
   "source": [
    "full_data.to_csv('full_data.csv', index = False)"
   ]
  },
  {
   "cell_type": "markdown",
   "metadata": {},
   "source": [
    "Train/Test split"
   ]
  },
  {
   "cell_type": "code",
   "execution_count": null,
   "metadata": {},
   "outputs": [],
   "source": [
    "#Validation\n",
    "tss = TimeSeriesSplit(n_splits=3)\n",
    "\n",
    "X_test = full_data[full_data.date_block_num == 34].drop('item_cnt_month', axis = 1)\n",
    "\n",
    "X = full_data[full_data.date_block_num != 34].drop('item_cnt_month', axis = 1)\n",
    "y = full_data[full_data.date_block_num != 34]['item_cnt_month']\n",
    "tss = TimeSeriesSplit(n_splits=3)\n",
    "\n",
    "for train_idxs, val_idxs in tss.split(X):\n",
    "\n",
    "    X_train, X_val = X.iloc[train_idxs], X.iloc[val_idxs]\n",
    "    y_train, y_val = y.iloc[train_idxs], y.iloc[val_idxs]\n",
    "    "
   ]
  },
  {
   "cell_type": "code",
   "execution_count": null,
   "metadata": {},
   "outputs": [],
   "source": [
    "#Training\n",
    "X_train = full_data[~full_data.date_block_num.isin([33,34])]\n",
    "y_train = X_train['item_cnt_month']\n",
    "del X_train['item_cnt_month']\n",
    "\n",
    "X_val = full_data[full_data['date_block_num']==33]\n",
    "y_val = X_val['item_cnt_month']\n",
    "del X_val['item_cnt_month']\n",
    "\n",
    "X_test = full_data[full_data['date_block_num']==34].drop(columns='item_cnt_month')\n",
    "X_test = X_test.reset_index()\n",
    "del X_test['index']"
   ]
  },
  {
   "cell_type": "code",
   "execution_count": null,
   "metadata": {},
   "outputs": [],
   "source": []
  }
 ],
 "metadata": {
  "kernelspec": {
   "display_name": "venv",
   "language": "python",
   "name": "python3"
  },
  "language_info": {
   "codemirror_mode": {
    "name": "ipython",
    "version": 3
   },
   "file_extension": ".py",
   "mimetype": "text/x-python",
   "name": "python",
   "nbconvert_exporter": "python",
   "pygments_lexer": "ipython3",
   "version": "3.12.7"
  }
 },
 "nbformat": 4,
 "nbformat_minor": 2
}
