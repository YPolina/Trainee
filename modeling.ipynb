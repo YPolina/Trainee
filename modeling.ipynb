{
 "cells": [
  {
   "cell_type": "code",
   "execution_count": 63,
   "metadata": {},
   "outputs": [],
   "source": [
    "import baseline\n",
    "import importlib\n",
    "importlib.reload(baseline)\n",
    "from baseline import *\n",
    "import numpy as np \n",
    "import pandas as pd"
   ]
  },
  {
   "cell_type": "code",
   "execution_count": 64,
   "metadata": {},
   "outputs": [],
   "source": [
    "#Data loading and reduce memory usage by changing dtypes\n",
    "files = ['train.csv', 'test.csv', 'shops.csv', 'items.csv', 'item_categories.csv']\n",
    "\n",
    "data = [loader(file_name) for file_name in files]"
   ]
  },
  {
   "cell_type": "code",
   "execution_count": 65,
   "metadata": {},
   "outputs": [
    {
     "name": "stderr",
     "output_type": "stream",
     "text": [
      "c:\\Users\\User\\OneDrive\\Рабочий стол\\Trainee\\baseline.py:77: FutureWarning: The behavior of pd.concat with len(keys) != len(objs) is deprecated. In a future version this will raise instead of truncating to the smaller of the two sequences\n",
      "  full_data = pd.concat([full_data, test], keys=columns, ignore_index=True, sort=False)\n"
     ]
    }
   ],
   "source": [
    "full_data, train = prepare_full_data(*data)"
   ]
  },
  {
   "cell_type": "code",
   "execution_count": 66,
   "metadata": {},
   "outputs": [
    {
     "name": "stdout",
     "output_type": "stream",
     "text": [
      "Mem. usage decreased to 105.42 Mb (82.8% reduction)\n",
      "<class 'pandas.core.frame.DataFrame'>\n",
      "RangeIndex: 11054182 entries, 0 to 11054181\n",
      "Data columns (total 8 columns):\n",
      " #   Column             Dtype  \n",
      "---  ------             -----  \n",
      " 0   date_block_num     int8   \n",
      " 1   shop_id            int8   \n",
      " 2   item_cnt_month     float16\n",
      " 3   item_id            int16  \n",
      " 4   city_id            int8   \n",
      " 5   item_category_id   int8   \n",
      " 6   main_category_id   int8   \n",
      " 7   minor_category_id  int8   \n",
      "dtypes: float16(1), int16(1), int8(6)\n",
      "memory usage: 105.4 MB\n"
     ]
    }
   ],
   "source": [
    "reduce_mem_usage(full_data)\n",
    "full_data.info()"
   ]
  },
  {
   "cell_type": "code",
   "execution_count": 67,
   "metadata": {},
   "outputs": [
    {
     "data": {
      "text/plain": [
       "'Data is valid'"
      ]
     },
     "execution_count": 67,
     "metadata": {},
     "output_type": "execute_result"
    }
   ],
   "source": [
    "#Check if our train data is valid\n",
    "column_types = {'date_block_num': 'int8', 'shop_id': 'int8', 'city_id': 'int8', 'item_id': 'int16', 'item_cnt_month': 'float16',\n",
    "'item_category_id': 'int8', 'main_category_id': 'int8', 'minor_category_id': 'int8'}\n",
    "values_ranges = {'date_block_num': (0, 34), 'shop_id': (0, 59), 'item_id': (0, 22169), 'item_cnt_month': (0, 669), 'city_id':(0,30),\n",
    "                'item_category_id': (0,83), 'main_category_id': (0,11), 'minor_category_id': (0, 66)}\n",
    "Validator(column_types = column_types, value_ranges = values_ranges, check_missing = True, check_duplicates=True).fit_transform(full_data)"
   ]
  },
  {
   "cell_type": "markdown",
   "metadata": {},
   "source": [
    "Feature exctraction"
   ]
  },
  {
   "cell_type": "code",
   "execution_count": 68,
   "metadata": {},
   "outputs": [
    {
     "name": "stderr",
     "output_type": "stream",
     "text": [
      "c:\\Users\\User\\OneDrive\\Рабочий стол\\Trainee\\baseline.py:527: FutureWarning: A value is trying to be set on a copy of a DataFrame or Series through chained assignment using an inplace method.\n",
      "The behavior will change in pandas 3.0. This inplace method will never work because the intermediate object on which we are setting values always behaves as a copy.\n",
      "\n",
      "For example, when doing 'df[col].method(value, inplace=True)', try using 'df.method({col: value}, inplace=True)' or df[col] = df[col].method(value) instead, to perform the operation inplace on the original object.\n",
      "\n",
      "\n",
      "  self.full_data['months_from_first_sale'] = self.full_data['date_block_num'] - self.full_data.groupby(['shop_id', 'item_id'])['date_block_num'].transform('min')\n"
     ]
    }
   ],
   "source": [
    "feature_extractor = FeatureExtractor(full_data, train)\n",
    "full_featured_data = feature_extractor.process()"
   ]
  },
  {
   "cell_type": "code",
   "execution_count": 69,
   "metadata": {},
   "outputs": [
    {
     "name": "stdout",
     "output_type": "stream",
     "text": [
      "Mem. usage decreased to 685.24 Mb (48.8% reduction)\n",
      "<class 'pandas.core.frame.DataFrame'>\n",
      "RangeIndex: 11054182 entries, 0 to 11054181\n",
      "Data columns (total 35 columns):\n",
      " #   Column                                Dtype  \n",
      "---  ------                                -----  \n",
      " 0   date_block_num                        int8   \n",
      " 1   shop_id                               int8   \n",
      " 2   item_cnt_month                        float16\n",
      " 3   item_id                               int16  \n",
      " 4   city_id                               int8   \n",
      " 5   item_category_id                      int8   \n",
      " 6   main_category_id                      int8   \n",
      " 7   minor_category_id                     int8   \n",
      " 8   shop_history                          int8   \n",
      " 9   item_history                          float16\n",
      " 10  minor_category_history                int8   \n",
      " 11  first_sales_date_block                float16\n",
      " 12  avg_item_cnt_per_cat_lag_1            float16\n",
      " 13  avg_item_cnt_per_shop_lag_1           float16\n",
      " 14  avg_item_cnt_per_shop_lag_3           float16\n",
      " 15  avg_item_cnt_per_shop_lag_6           float16\n",
      " 16  avg_item_cnt_per_item_lag_1           float16\n",
      " 17  avg_item_cnt_per_item_lag_3           float16\n",
      " 18  avg_item_cnt_per_item_lag_6           float16\n",
      " 19  avg_item_cnt_per_city_per_shop_lag_1  float16\n",
      " 20  avg_item_cnt_per_cat_per_shop_lag_1   float16\n",
      " 21  med_item_cnt_per_cat_per_shop_lag_1   float16\n",
      " 22  avg_item_cnt_per_main_cat_lag_1       float16\n",
      " 23  avg_item_cnt_per_minor_cat_lag_1      float16\n",
      " 24  item_cnt_month_lag_1                  float16\n",
      " 25  item_cnt_month_lag_2                  float16\n",
      " 26  item_cnt_month_lag_3                  float16\n",
      " 27  item_cnt_month_lag_6                  float16\n",
      " 28  item_cnt_month_lag_12                 float16\n",
      " 29  sales_per_category_per_shop_lag_1     float32\n",
      " 30  sales_per_item_lag_1                  float32\n",
      " 31  delta_revenue_lag_1                   float16\n",
      " 32  delta_price_lag_1                     float16\n",
      " 33  months_from_last_sale                 float16\n",
      " 34  months_from_first_sale                int8   \n",
      "dtypes: float16(23), float32(2), int16(1), int8(9)\n",
      "memory usage: 685.2 MB\n"
     ]
    }
   ],
   "source": [
    "reduce_mem_usage(full_featured_data)\n",
    "full_featured_data.info()"
   ]
  },
  {
   "cell_type": "code",
   "execution_count": 70,
   "metadata": {},
   "outputs": [],
   "source": [
    "full_featured_data.to_csv('full_data.csv', index = False)"
   ]
  },
  {
   "cell_type": "markdown",
   "metadata": {},
   "source": [
    "Train/Test split"
   ]
  },
  {
   "cell_type": "code",
   "execution_count": null,
   "metadata": {},
   "outputs": [],
   "source": [
    "#Validation\n",
    "tss = TimeSeriesSplit(n_splits=3)\n",
    "\n",
    "X_test = full_data[full_data.date_block_num == 34].drop('item_cnt_month', axis = 1)\n",
    "\n",
    "X = full_data[full_data.date_block_num != 34].drop('item_cnt_month', axis = 1)\n",
    "y = full_data[full_data.date_block_num != 34]['item_cnt_month']\n",
    "tss = TimeSeriesSplit(n_splits=3)\n",
    "\n",
    "for train_idxs, val_idxs in tss.split(X):\n",
    "\n",
    "    X_train, X_val = X.iloc[train_idxs], X.iloc[val_idxs]\n",
    "    y_train, y_val = y.iloc[train_idxs], y.iloc[val_idxs]\n",
    "    "
   ]
  },
  {
   "cell_type": "code",
   "execution_count": null,
   "metadata": {},
   "outputs": [],
   "source": [
    "#Training\n",
    "X_train = full_data[~full_data.date_block_num.isin([33,34])]\n",
    "y_train = X_train['item_cnt_month']\n",
    "del X_train['item_cnt_month']\n",
    "\n",
    "X_val = full_data[full_data['date_block_num']==33]\n",
    "y_val = X_val['item_cnt_month']\n",
    "del X_val['item_cnt_month']\n",
    "\n",
    "X_test = full_data[full_data['date_block_num']==34].drop(columns='item_cnt_month')\n",
    "X_test = X_test.reset_index()\n",
    "del X_test['index']"
   ]
  }
 ],
 "metadata": {
  "kernelspec": {
   "display_name": "venv",
   "language": "python",
   "name": "python3"
  },
  "language_info": {
   "codemirror_mode": {
    "name": "ipython",
    "version": 3
   },
   "file_extension": ".py",
   "mimetype": "text/x-python",
   "name": "python",
   "nbconvert_exporter": "python",
   "pygments_lexer": "ipython3",
   "version": "3.12.7"
  }
 },
 "nbformat": 4,
 "nbformat_minor": 2
}
