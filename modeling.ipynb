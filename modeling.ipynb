{
 "cells": [
  {
   "cell_type": "code",
   "execution_count": 8,
   "metadata": {},
   "outputs": [],
   "source": [
    "import validation_step\n",
    "import importlib\n",
    "importlib.reload(validation_step)\n",
    "from validation_step import *\n",
    "from etl_eda import *\n",
    "from sklearn.model_selection import TimeSeriesSplit\n",
    "from sklearn.dummy import DummyRegressor\n",
    "from sklearn.metrics import mean_squared_error\n"
   ]
  },
  {
   "cell_type": "code",
   "execution_count": 9,
   "metadata": {},
   "outputs": [],
   "source": [
    "data = load('data.csv')"
   ]
  },
  {
   "cell_type": "code",
   "execution_count": 37,
   "metadata": {},
   "outputs": [
    {
     "name": "stdout",
     "output_type": "stream",
     "text": [
      "All values in column item_category_id are numeric\n",
      "All values in column 'item_category_id' are in range: [0, 83].\n",
      "All values in column main_category_id are numeric\n",
      "All values in column 'main_category_id' are in range: [0, 19].\n",
      "All values in column minor_category_id are numeric\n",
      "All values in column 'minor_category_id' are in range: [0, 66].\n",
      "All values in column item_id are numeric\n",
      "All values in column 'item_id' are in range: [0, 22169].\n",
      "All values in column shop_id_encoded are numeric\n",
      "All values in column 'shop_id_encoded' are in range: [0, 57].\n",
      "All values in column city_id are numeric\n",
      "All values in column 'city_id' are in range: [0, 29].\n",
      "All values in column date_block_num are numeric\n",
      "All values in column 'date_block_num' are in range: [0, 34].\n",
      "All values in column revenue_log are numeric\n",
      "All values in column revenue_log are positive\n",
      "All values in column item_price_log are numeric\n",
      "All values in column item_price_log are positive\n",
      "All values in column month are numeric\n",
      "All values in column 'month' are in range: [0, 12].\n",
      "All values in column year are numeric\n",
      "All values in column 'year' are in range: [2013, 2015].\n",
      "There is no missing values\n",
      "There is no duplicates\n",
      "Validation is passed\n"
     ]
    }
   ],
   "source": [
    "validator = Validator(data)\n",
    "if validator.validate():\n",
    "    print(\"Validation is passed\")\n",
    "else:\n",
    "    print(\"Validation is failed\")"
   ]
  },
  {
   "cell_type": "code",
   "execution_count": 3,
   "metadata": {},
   "outputs": [],
   "source": [
    "X_test = data.drop('item_cnt_month_log', axis = 1).loc[data.date_block_num == 34]"
   ]
  },
  {
   "cell_type": "code",
   "execution_count": 4,
   "metadata": {},
   "outputs": [],
   "source": [
    "model = DummyRegressor(strategy= 'mean')"
   ]
  },
  {
   "cell_type": "markdown",
   "metadata": {},
   "source": [
    "Train/val split + check if we have enough data"
   ]
  },
  {
   "cell_type": "code",
   "execution_count": 5,
   "metadata": {},
   "outputs": [
    {
     "name": "stdout",
     "output_type": "stream",
     "text": [
      "MSE for fold №1: 0.035554202977984124\n",
      "MSE for fold №2: 0.026481845637343997\n",
      "MSE for fold №3: 0.02788435463394971\n"
     ]
    }
   ],
   "source": [
    "tss = TimeSeriesSplit(n_splits = 3)\n",
    "n = 0\n",
    "\n",
    "for train_index, validation_index in tss.split(data.loc[data.date_block_num != 34]):\n",
    "    train_data, validation_data = data.iloc[train_index], data.iloc[validation_index]\n",
    "    X_train = train_data.drop('item_cnt_month_log', axis = 1)\n",
    "    y_train = train_data['item_cnt_month_log']\n",
    "    X_val = validation_data.drop('item_cnt_month_log', axis = 1)\n",
    "    y_val = validation_data['item_cnt_month_log']\n",
    "\n",
    "    model.fit(X_train, y_train)\n",
    "    y_pred = model.predict(X_val)\n",
    "    mse = mean_squared_error(y_pred, y_val)\n",
    "    n += 1\n",
    "    print(f'MSE for fold №{n}: {mse}')"
   ]
  },
  {
   "cell_type": "markdown",
   "metadata": {},
   "source": [
    "The obtained MSE we could use in future as baselines, to ensure that we do not have data leakage"
   ]
  }
 ],
 "metadata": {
  "kernelspec": {
   "display_name": "venv",
   "language": "python",
   "name": "python3"
  },
  "language_info": {
   "codemirror_mode": {
    "name": "ipython",
    "version": 3
   },
   "file_extension": ".py",
   "mimetype": "text/x-python",
   "name": "python",
   "nbconvert_exporter": "python",
   "pygments_lexer": "ipython3",
   "version": "3.13.0"
  }
 },
 "nbformat": 4,
 "nbformat_minor": 2
}
