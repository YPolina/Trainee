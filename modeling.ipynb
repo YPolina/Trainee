{
 "cells": [
  {
   "cell_type": "code",
   "execution_count": 233,
   "metadata": {},
   "outputs": [],
   "source": [
    "import validation_step\n",
    "import importlib\n",
    "importlib.reload(validation_step)\n",
    "from validation_step import *\n",
    "from etl_eda import *\n",
    "from sklearn.pipeline import Pipeline\n",
    "from sklearn.model_selection import TimeSeriesSplit\n",
    "from sklearn.dummy import DummyRegressor\n",
    "from sklearn.metrics import mean_squared_error\n"
   ]
  },
  {
   "cell_type": "code",
   "execution_count": 234,
   "metadata": {},
   "outputs": [],
   "source": [
    "#Loading of datasets\n",
    "data = load('data.csv')\n",
    "categories = load('item_categories.csv')\n",
    "items = load('items.csv')\n",
    "shops = load('shops.csv')\n",
    "test = load('./competitive-data-science-predict-future-sales/test.csv')"
   ]
  },
  {
   "cell_type": "code",
   "execution_count": 235,
   "metadata": {},
   "outputs": [],
   "source": [
    "#Transformation of test set\n",
    "merge_params = [[items, 'item_id'], [categories, 'item_category_id'], [shops, 'shop_id']]\n",
    "\n",
    "for df_merge, column in merge_params:\n",
    "        test = test.merge(df_merge, on = f'{column}', how = 'left')\n",
    "\n",
    "test['date_block_num'] = 34\n",
    "test['year'] = 2015\n",
    "test['month'] = 11\n",
    "\n",
    "columns = ['item_category_id', 'main_category_id', 'minor_category_id',\n",
    "       'date_block_num', 'item_id', 'month',\n",
    "       'year', 'shop_id', 'city_id']\n",
    "test = test.loc[:, columns]"
   ]
  },
  {
   "cell_type": "code",
   "execution_count": 236,
   "metadata": {},
   "outputs": [
    {
     "name": "stderr",
     "output_type": "stream",
     "text": [
      "C:\\Users\\User\\AppData\\Local\\Temp\\ipykernel_77908\\3268138665.py:2: FutureWarning: The behavior of pd.concat with len(keys) != len(objs) is deprecated. In a future version this will raise instead of truncating to the smaller of the two sequences\n",
      "  data = pd.concat([data, test], ignore_index=True, sort=False, keys=columns)\n"
     ]
    }
   ],
   "source": [
    "#Merge Train and Test sets\n",
    "data = pd.concat([data, test], ignore_index=True, sort=False, keys=columns)"
   ]
  },
  {
   "cell_type": "code",
   "execution_count": 237,
   "metadata": {},
   "outputs": [],
   "source": [
    "#Pipeline with feature enfineering, column trasformation, obtaining a complete data set, validation\n",
    "categorical_features = ['item_category_id', 'main_category_id', 'minor_category_id', 'shop_id']\n",
    "log_transform_features = ['item_cnt_month', 'item_price', 'revenue']\n",
    "\n",
    "lags = [1, 2, 3, 6, 12]\n",
    "date_block_num = 34\n",
    "\n",
    "#Pipeline for feature engineering(revenue, shop_history, minor_catregory_history, lags) and obtaining complete data on all item&shop pairs\n",
    "pipeline_1 = pipeline_1(date_block_num, lags)\n",
    "pipeline_1.fit(data)\n",
    "data = pipeline_1.transform(data)\n",
    "\n",
    "#Pipeline for log transformation and encoding of categorical features\n",
    "pipeline_2 = pipeline_2(log_transform_features, categorical_features)\n",
    "pipeline_2.fit(data)\n",
    "transformed_data = pipeline_2.transform(data)\n",
    "\n",
    "#Merging results of 2 pipelines\n",
    "transformed_columns = ['item_cnt_month_log', 'item_price_log', 'revenue_log', 'item_category_id', 'main_category_id', 'minor_category_id', 'shop_id']\n",
    "transformed_data = pipeline.transform(data)\n",
    "data[transformed_columns] = transformed_data\n",
    "\n",
    "#Save in dataframe needed columns\n",
    "columns = ['item_category_id', 'main_category_id', 'minor_category_id',\n",
    "       'date_block_num', 'item_id', 'month',\n",
    "       'year', 'shop_id', 'city_id', 'shop_history',\n",
    "       'minor_category_history', 'item_cnt_month_lag_1',\n",
    "       'item_cnt_month_lag_2', 'item_cnt_month_lag_3', 'item_cnt_month_lag_6',\n",
    "       'item_cnt_month_lag_12', 'item_cnt_month_log', 'item_price_log', 'revenue_log']\n",
    "data = data.loc[:, columns]"
   ]
  },
  {
   "cell_type": "code",
   "execution_count": 240,
   "metadata": {},
   "outputs": [
    {
     "name": "stdout",
     "output_type": "stream",
     "text": [
      "Validation successful, data is valid.\n"
     ]
    }
   ],
   "source": [
    "#Data Validation\n",
    "validation = Validator()\n",
    "try:\n",
    "    validated_data = validation.fit_transform(data)\n",
    "    print(\"Validation successful, data is valid.\")\n",
    "except ValueError as e:\n",
    "    print(f\"Validation error: {e}\")\n",
    "except TypeError as e:\n",
    "    print(f\"Type error: {e}\")"
   ]
  },
  {
   "cell_type": "code",
   "execution_count": 46,
   "metadata": {},
   "outputs": [],
   "source": [
    "X_test = transformed_data.drop('item_cnt_month', axis = 1).loc[transformed_data.date_block_num == 34]\n",
    "X_train = transformed_data.drop('item_cnt_month', axis = 1).loc[transformed_data.date_block_num != 34]"
   ]
  },
  {
   "cell_type": "code",
   "execution_count": 4,
   "metadata": {},
   "outputs": [],
   "source": [
    "model = DummyRegressor(strategy= 'mean')"
   ]
  },
  {
   "cell_type": "markdown",
   "metadata": {},
   "source": [
    "Train/val split + check if we have enough data"
   ]
  },
  {
   "cell_type": "code",
   "execution_count": 5,
   "metadata": {},
   "outputs": [
    {
     "name": "stdout",
     "output_type": "stream",
     "text": [
      "MSE for fold №1: 0.035554202977984124\n",
      "MSE for fold №2: 0.026481845637343997\n",
      "MSE for fold №3: 0.02788435463394971\n"
     ]
    }
   ],
   "source": [
    "tss = TimeSeriesSplit(n_splits = 3)\n",
    "n = 0\n",
    "\n",
    "for train_index, validation_index in tss.split(data.loc[data.date_block_num != 34]):\n",
    "    train_data, validation_data = data.iloc[train_index], data.iloc[validation_index]\n",
    "    X_train = train_data.drop('item_cnt_month_log', axis = 1)\n",
    "    y_train = train_data['item_cnt_month_log']\n",
    "    X_val = validation_data.drop('item_cnt_month_log', axis = 1)\n",
    "    y_val = validation_data['item_cnt_month_log']\n",
    "\n",
    "    model.fit(X_train, y_train)\n",
    "    y_pred = model.predict(X_val)\n",
    "    mse = mean_squared_error(y_pred, y_val)\n",
    "    n += 1\n",
    "    print(f'MSE for fold №{n}: {mse}')"
   ]
  },
  {
   "cell_type": "markdown",
   "metadata": {},
   "source": [
    "The obtained MSE we could use in future as baselines, to ensure that we do not have data leakage"
   ]
  }
 ],
 "metadata": {
  "kernelspec": {
   "display_name": "venv",
   "language": "python",
   "name": "python3"
  },
  "language_info": {
   "codemirror_mode": {
    "name": "ipython",
    "version": 3
   },
   "file_extension": ".py",
   "mimetype": "text/x-python",
   "name": "python",
   "nbconvert_exporter": "python",
   "pygments_lexer": "ipython3",
   "version": "3.13.0"
  }
 },
 "nbformat": 4,
 "nbformat_minor": 2
}
