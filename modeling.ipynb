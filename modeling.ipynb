{
 "cells": [
  {
   "cell_type": "code",
   "execution_count": 36,
   "metadata": {},
   "outputs": [],
   "source": [
    "import validation\n",
    "import importlib\n",
    "importlib.reload(validation)\n",
    "from validation import *\n",
    "from etl_eda import *\n"
   ]
  },
  {
   "cell_type": "code",
   "execution_count": 25,
   "metadata": {},
   "outputs": [],
   "source": [
    "data = load('data.csv')"
   ]
  },
  {
   "cell_type": "code",
   "execution_count": 37,
   "metadata": {},
   "outputs": [
    {
     "name": "stdout",
     "output_type": "stream",
     "text": [
      "All values in column item_category_id are numeric\n",
      "All values in column 'item_category_id' are in range: [0, 83].\n",
      "All values in column main_category_id are numeric\n",
      "All values in column 'main_category_id' are in range: [0, 19].\n",
      "All values in column minor_category_id are numeric\n",
      "All values in column 'minor_category_id' are in range: [0, 66].\n",
      "All values in column item_id are numeric\n",
      "All values in column 'item_id' are in range: [0, 22169].\n",
      "All values in column shop_id_encoded are numeric\n",
      "All values in column 'shop_id_encoded' are in range: [0, 57].\n",
      "All values in column city_id are numeric\n",
      "All values in column 'city_id' are in range: [0, 29].\n",
      "All values in column date_block_num are numeric\n",
      "All values in column 'date_block_num' are in range: [0, 34].\n",
      "All values in column revenue_log are numeric\n",
      "All values in column revenue_log are positive\n",
      "All values in column item_price_log are numeric\n",
      "All values in column item_price_log are positive\n",
      "All values in column month are numeric\n",
      "All values in column 'month' are in range: [0, 12].\n",
      "All values in column year are numeric\n",
      "All values in column 'year' are in range: [2013, 2015].\n",
      "There is no missing values\n",
      "There is no duplicates\n",
      "Validation is passed\n"
     ]
    }
   ],
   "source": [
    "validator = Validator(data)\n",
    "if validator.validate():\n",
    "    print(\"Validation is passed\")\n",
    "else:\n",
    "    print(\"Validation is failed\")"
   ]
  },
  {
   "cell_type": "code",
   "execution_count": null,
   "metadata": {},
   "outputs": [],
   "source": []
  }
 ],
 "metadata": {
  "kernelspec": {
   "display_name": "venv",
   "language": "python",
   "name": "python3"
  },
  "language_info": {
   "codemirror_mode": {
    "name": "ipython",
    "version": 3
   },
   "file_extension": ".py",
   "mimetype": "text/x-python",
   "name": "python",
   "nbconvert_exporter": "python",
   "pygments_lexer": "ipython3",
   "version": "3.10.11"
  }
 },
 "nbformat": 4,
 "nbformat_minor": 2
}
