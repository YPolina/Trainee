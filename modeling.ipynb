{
 "cells": [
  {
   "cell_type": "code",
   "execution_count": 1,
   "metadata": {},
   "outputs": [],
   "source": [
    "import validation_step\n",
    "import importlib\n",
    "importlib.reload(validation_step)\n",
    "from validation_step import *\n",
    "from etl_eda import *\n",
    "from sklearn.pipeline import Pipeline\n",
    "from sklearn.model_selection import TimeSeriesSplit\n",
    "from sklearn.dummy import DummyRegressor\n",
    "from sklearn.metrics import root_mean_squared_error"
   ]
  },
  {
   "cell_type": "markdown",
   "metadata": {
    "vscode": {
     "languageId": "html"
    }
   },
   "source": [
    "<strong>Feature extraction step</strong>."
   ]
  },
  {
   "cell_type": "code",
   "execution_count": null,
   "metadata": {},
   "outputs": [],
   "source": [
    "#Pipeline for feature engineering(revenue, shop_history, minor_catregory_history, lags) and obtaining complete data on all item&shop pairs\n",
    "pipeline_1 = pipeline_1(col_lags_dict)\n",
    "data = pipeline_1.fit_transform()\n",
    "\n",
    "\n",
    "#Pipeline for log transformation and encoding of categorical features\n",
    "pipeline_2 = pipeline_2(target_log_transformation, categorical_features)\n",
    "pipeline_2.fit(data)\n",
    "transformed_data = pipeline_2.transform(data)\n",
    "\n",
    "#Adding results from 2nd pipeline\n",
    "transformed_columns = ['item_cnt_month_log', 'item_category_id', 'main_category_id', 'minor_category_id', 'shop_id']\n",
    "data[transformed_columns] = transformed_data"
   ]
  },
  {
   "cell_type": "markdown",
   "metadata": {},
   "source": [
    "<strong>Data Validation</strong>."
   ]
  },
  {
   "cell_type": "code",
   "execution_count": 12,
   "metadata": {},
   "outputs": [
    {
     "name": "stdout",
     "output_type": "stream",
     "text": [
      "Validation error: Column delta_revenue_lag_1 contains negative values\n"
     ]
    }
   ],
   "source": [
    "#Data Validation\n",
    "\n",
    "validation = Validator()\n",
    "try:\n",
    "    validated_data = validation.fit_transform()\n",
    "    print(\"Validation successful, data is valid.\")\n",
    "except ValueError as e:\n",
    "    print(f\"Validation error: {e}\")\n",
    "except TypeError as e:\n",
    "    print(f\"Type error: {e}\")"
   ]
  },
  {
   "cell_type": "markdown",
   "metadata": {},
   "source": [
    "<strong>Train/Validation/Test splits</strong>."
   ]
  },
  {
   "cell_type": "code",
   "execution_count": 3,
   "metadata": {},
   "outputs": [],
   "source": [
    "#Train/val split - to avoid data leakage\n",
    "k = 5 \n",
    "tss = TimeSeriesSplit(n_splits=k)\n",
    "#for test set we will use data with date_block_num = 34"
   ]
  }
 ],
 "metadata": {
  "kernelspec": {
   "display_name": "venv",
   "language": "python",
   "name": "python3"
  },
  "language_info": {
   "codemirror_mode": {
    "name": "ipython",
    "version": 3
   },
   "file_extension": ".py",
   "mimetype": "text/x-python",
   "name": "python",
   "nbconvert_exporter": "python",
   "pygments_lexer": "ipython3",
   "version": "3.12.7"
  }
 },
 "nbformat": 4,
 "nbformat_minor": 2
}
